{
 "cells": [
  {
   "cell_type": "code",
   "execution_count": 2,
   "metadata": {},
   "outputs": [],
   "source": [
    "# Importing Libraries\n",
    "import pandas as pd  \n",
    "import numpy as np  \n",
    "import matplotlib.pyplot as plt  \n",
    "import seaborn as seabornInstance \n",
    "from sklearn.model_selection import train_test_split \n",
    "from sklearn.linear_model import LinearRegression\n",
    "from sklearn import metrics"
   ]
  },
  {
   "cell_type": "code",
   "execution_count": 3,
   "metadata": {},
   "outputs": [
    {
     "name": "stdout",
     "output_type": "stream",
     "text": [
      "(68778, 7)\n"
     ]
    },
    {
     "data": {
      "text/html": [
       "<div>\n",
       "<style scoped>\n",
       "    .dataframe tbody tr th:only-of-type {\n",
       "        vertical-align: middle;\n",
       "    }\n",
       "\n",
       "    .dataframe tbody tr th {\n",
       "        vertical-align: top;\n",
       "    }\n",
       "\n",
       "    .dataframe thead th {\n",
       "        text-align: right;\n",
       "    }\n",
       "</style>\n",
       "<table border=\"1\" class=\"dataframe\">\n",
       "  <thead>\n",
       "    <tr style=\"text-align: right;\">\n",
       "      <th></th>\n",
       "      <th>PLANT_ID</th>\n",
       "      <th>DC_POWER</th>\n",
       "      <th>AC_POWER</th>\n",
       "      <th>DAILY_YIELD</th>\n",
       "      <th>TOTAL_YIELD</th>\n",
       "    </tr>\n",
       "  </thead>\n",
       "  <tbody>\n",
       "    <tr>\n",
       "      <th>count</th>\n",
       "      <td>68778.0</td>\n",
       "      <td>68778.000000</td>\n",
       "      <td>68778.000000</td>\n",
       "      <td>68778.000000</td>\n",
       "      <td>6.877800e+04</td>\n",
       "    </tr>\n",
       "    <tr>\n",
       "      <th>mean</th>\n",
       "      <td>4135001.0</td>\n",
       "      <td>3147.426211</td>\n",
       "      <td>307.802752</td>\n",
       "      <td>3295.968737</td>\n",
       "      <td>6.978712e+06</td>\n",
       "    </tr>\n",
       "    <tr>\n",
       "      <th>std</th>\n",
       "      <td>0.0</td>\n",
       "      <td>4036.457169</td>\n",
       "      <td>394.396439</td>\n",
       "      <td>3145.178309</td>\n",
       "      <td>4.162720e+05</td>\n",
       "    </tr>\n",
       "    <tr>\n",
       "      <th>min</th>\n",
       "      <td>4135001.0</td>\n",
       "      <td>0.000000</td>\n",
       "      <td>0.000000</td>\n",
       "      <td>0.000000</td>\n",
       "      <td>6.183645e+06</td>\n",
       "    </tr>\n",
       "    <tr>\n",
       "      <th>25%</th>\n",
       "      <td>4135001.0</td>\n",
       "      <td>0.000000</td>\n",
       "      <td>0.000000</td>\n",
       "      <td>0.000000</td>\n",
       "      <td>6.512003e+06</td>\n",
       "    </tr>\n",
       "    <tr>\n",
       "      <th>50%</th>\n",
       "      <td>4135001.0</td>\n",
       "      <td>429.000000</td>\n",
       "      <td>41.493750</td>\n",
       "      <td>2658.714286</td>\n",
       "      <td>7.146685e+06</td>\n",
       "    </tr>\n",
       "    <tr>\n",
       "      <th>75%</th>\n",
       "      <td>4135001.0</td>\n",
       "      <td>6366.964286</td>\n",
       "      <td>623.618750</td>\n",
       "      <td>6274.000000</td>\n",
       "      <td>7.268706e+06</td>\n",
       "    </tr>\n",
       "    <tr>\n",
       "      <th>max</th>\n",
       "      <td>4135001.0</td>\n",
       "      <td>14471.125000</td>\n",
       "      <td>1410.950000</td>\n",
       "      <td>9163.000000</td>\n",
       "      <td>7.846821e+06</td>\n",
       "    </tr>\n",
       "  </tbody>\n",
       "</table>\n",
       "</div>"
      ],
      "text/plain": [
       "        PLANT_ID      DC_POWER      AC_POWER   DAILY_YIELD   TOTAL_YIELD\n",
       "count    68778.0  68778.000000  68778.000000  68778.000000  6.877800e+04\n",
       "mean   4135001.0   3147.426211    307.802752   3295.968737  6.978712e+06\n",
       "std          0.0   4036.457169    394.396439   3145.178309  4.162720e+05\n",
       "min    4135001.0      0.000000      0.000000      0.000000  6.183645e+06\n",
       "25%    4135001.0      0.000000      0.000000      0.000000  6.512003e+06\n",
       "50%    4135001.0    429.000000     41.493750   2658.714286  7.146685e+06\n",
       "75%    4135001.0   6366.964286    623.618750   6274.000000  7.268706e+06\n",
       "max    4135001.0  14471.125000   1410.950000   9163.000000  7.846821e+06"
      ]
     },
     "execution_count": 3,
     "metadata": {},
     "output_type": "execute_result"
    }
   ],
   "source": [
    "# Reading the dataset\n",
    "datasetGD1 = pd.read_csv('./Solar_Power/Plant_1_Generation_Data.csv')\n",
    "\n",
    "# See the shape of the dataset\n",
    "print(datasetGD1.shape)\n",
    "\n",
    "\n",
    "# Some statitistics of the dataset\n",
    "datasetGD1.describe()\n"
   ]
  },
  {
   "cell_type": "code",
   "execution_count": 4,
   "metadata": {},
   "outputs": [
    {
     "name": "stdout",
     "output_type": "stream",
     "text": [
      "<class 'pandas.core.frame.DataFrame'>\n",
      "RangeIndex: 68778 entries, 0 to 68777\n",
      "Data columns (total 7 columns):\n",
      " #   Column       Non-Null Count  Dtype  \n",
      "---  ------       --------------  -----  \n",
      " 0   DATE_TIME    68778 non-null  object \n",
      " 1   PLANT_ID     68778 non-null  int64  \n",
      " 2   SOURCE_KEY   68778 non-null  object \n",
      " 3   DC_POWER     68778 non-null  float64\n",
      " 4   AC_POWER     68778 non-null  float64\n",
      " 5   DAILY_YIELD  68778 non-null  float64\n",
      " 6   TOTAL_YIELD  68778 non-null  float64\n",
      "dtypes: float64(4), int64(1), object(2)\n",
      "memory usage: 3.7+ MB\n"
     ]
    }
   ],
   "source": [
    "datasetGD1.info()"
   ]
  },
  {
   "cell_type": "code",
   "execution_count": 5,
   "metadata": {},
   "outputs": [
    {
     "data": {
      "text/html": [
       "<div>\n",
       "<style scoped>\n",
       "    .dataframe tbody tr th:only-of-type {\n",
       "        vertical-align: middle;\n",
       "    }\n",
       "\n",
       "    .dataframe tbody tr th {\n",
       "        vertical-align: top;\n",
       "    }\n",
       "\n",
       "    .dataframe thead th {\n",
       "        text-align: right;\n",
       "    }\n",
       "</style>\n",
       "<table border=\"1\" class=\"dataframe\">\n",
       "  <thead>\n",
       "    <tr style=\"text-align: right;\">\n",
       "      <th></th>\n",
       "      <th>DATE_TIME</th>\n",
       "      <th>PLANT_ID</th>\n",
       "      <th>SOURCE_KEY</th>\n",
       "      <th>DC_POWER</th>\n",
       "      <th>AC_POWER</th>\n",
       "      <th>DAILY_YIELD</th>\n",
       "      <th>TOTAL_YIELD</th>\n",
       "    </tr>\n",
       "  </thead>\n",
       "  <tbody>\n",
       "    <tr>\n",
       "      <th>0</th>\n",
       "      <td>15-05-2020 00:00</td>\n",
       "      <td>4135001</td>\n",
       "      <td>1BY6WEcLGh8j5v7</td>\n",
       "      <td>0.0</td>\n",
       "      <td>0.0</td>\n",
       "      <td>0.000</td>\n",
       "      <td>6259559.0</td>\n",
       "    </tr>\n",
       "    <tr>\n",
       "      <th>1</th>\n",
       "      <td>15-05-2020 00:00</td>\n",
       "      <td>4135001</td>\n",
       "      <td>1IF53ai7Xc0U56Y</td>\n",
       "      <td>0.0</td>\n",
       "      <td>0.0</td>\n",
       "      <td>0.000</td>\n",
       "      <td>6183645.0</td>\n",
       "    </tr>\n",
       "    <tr>\n",
       "      <th>2</th>\n",
       "      <td>15-05-2020 00:00</td>\n",
       "      <td>4135001</td>\n",
       "      <td>3PZuoBAID5Wc2HD</td>\n",
       "      <td>0.0</td>\n",
       "      <td>0.0</td>\n",
       "      <td>0.000</td>\n",
       "      <td>6987759.0</td>\n",
       "    </tr>\n",
       "    <tr>\n",
       "      <th>3</th>\n",
       "      <td>15-05-2020 00:00</td>\n",
       "      <td>4135001</td>\n",
       "      <td>7JYdWkrLSPkdwr4</td>\n",
       "      <td>0.0</td>\n",
       "      <td>0.0</td>\n",
       "      <td>0.000</td>\n",
       "      <td>7602960.0</td>\n",
       "    </tr>\n",
       "    <tr>\n",
       "      <th>4</th>\n",
       "      <td>15-05-2020 00:00</td>\n",
       "      <td>4135001</td>\n",
       "      <td>McdE0feGgRqW7Ca</td>\n",
       "      <td>0.0</td>\n",
       "      <td>0.0</td>\n",
       "      <td>0.000</td>\n",
       "      <td>7158964.0</td>\n",
       "    </tr>\n",
       "    <tr>\n",
       "      <th>...</th>\n",
       "      <td>...</td>\n",
       "      <td>...</td>\n",
       "      <td>...</td>\n",
       "      <td>...</td>\n",
       "      <td>...</td>\n",
       "      <td>...</td>\n",
       "      <td>...</td>\n",
       "    </tr>\n",
       "    <tr>\n",
       "      <th>68773</th>\n",
       "      <td>17-06-2020 23:45</td>\n",
       "      <td>4135001</td>\n",
       "      <td>uHbuxQJl8lW7ozc</td>\n",
       "      <td>0.0</td>\n",
       "      <td>0.0</td>\n",
       "      <td>5967.000</td>\n",
       "      <td>7287002.0</td>\n",
       "    </tr>\n",
       "    <tr>\n",
       "      <th>68774</th>\n",
       "      <td>17-06-2020 23:45</td>\n",
       "      <td>4135001</td>\n",
       "      <td>wCURE6d3bPkepu2</td>\n",
       "      <td>0.0</td>\n",
       "      <td>0.0</td>\n",
       "      <td>5147.625</td>\n",
       "      <td>7028601.0</td>\n",
       "    </tr>\n",
       "    <tr>\n",
       "      <th>68775</th>\n",
       "      <td>17-06-2020 23:45</td>\n",
       "      <td>4135001</td>\n",
       "      <td>z9Y9gH1T5YWrNuG</td>\n",
       "      <td>0.0</td>\n",
       "      <td>0.0</td>\n",
       "      <td>5819.000</td>\n",
       "      <td>7251204.0</td>\n",
       "    </tr>\n",
       "    <tr>\n",
       "      <th>68776</th>\n",
       "      <td>17-06-2020 23:45</td>\n",
       "      <td>4135001</td>\n",
       "      <td>zBIq5rxdHJRwDNY</td>\n",
       "      <td>0.0</td>\n",
       "      <td>0.0</td>\n",
       "      <td>5817.000</td>\n",
       "      <td>6583369.0</td>\n",
       "    </tr>\n",
       "    <tr>\n",
       "      <th>68777</th>\n",
       "      <td>17-06-2020 23:45</td>\n",
       "      <td>4135001</td>\n",
       "      <td>zVJPv84UY57bAof</td>\n",
       "      <td>0.0</td>\n",
       "      <td>0.0</td>\n",
       "      <td>5910.000</td>\n",
       "      <td>7363272.0</td>\n",
       "    </tr>\n",
       "  </tbody>\n",
       "</table>\n",
       "<p>68778 rows × 7 columns</p>\n",
       "</div>"
      ],
      "text/plain": [
       "              DATE_TIME  PLANT_ID       SOURCE_KEY  DC_POWER  AC_POWER  \\\n",
       "0      15-05-2020 00:00   4135001  1BY6WEcLGh8j5v7       0.0       0.0   \n",
       "1      15-05-2020 00:00   4135001  1IF53ai7Xc0U56Y       0.0       0.0   \n",
       "2      15-05-2020 00:00   4135001  3PZuoBAID5Wc2HD       0.0       0.0   \n",
       "3      15-05-2020 00:00   4135001  7JYdWkrLSPkdwr4       0.0       0.0   \n",
       "4      15-05-2020 00:00   4135001  McdE0feGgRqW7Ca       0.0       0.0   \n",
       "...                 ...       ...              ...       ...       ...   \n",
       "68773  17-06-2020 23:45   4135001  uHbuxQJl8lW7ozc       0.0       0.0   \n",
       "68774  17-06-2020 23:45   4135001  wCURE6d3bPkepu2       0.0       0.0   \n",
       "68775  17-06-2020 23:45   4135001  z9Y9gH1T5YWrNuG       0.0       0.0   \n",
       "68776  17-06-2020 23:45   4135001  zBIq5rxdHJRwDNY       0.0       0.0   \n",
       "68777  17-06-2020 23:45   4135001  zVJPv84UY57bAof       0.0       0.0   \n",
       "\n",
       "       DAILY_YIELD  TOTAL_YIELD  \n",
       "0            0.000    6259559.0  \n",
       "1            0.000    6183645.0  \n",
       "2            0.000    6987759.0  \n",
       "3            0.000    7602960.0  \n",
       "4            0.000    7158964.0  \n",
       "...            ...          ...  \n",
       "68773     5967.000    7287002.0  \n",
       "68774     5147.625    7028601.0  \n",
       "68775     5819.000    7251204.0  \n",
       "68776     5817.000    6583369.0  \n",
       "68777     5910.000    7363272.0  \n",
       "\n",
       "[68778 rows x 7 columns]"
      ]
     },
     "execution_count": 5,
     "metadata": {},
     "output_type": "execute_result"
    }
   ],
   "source": [
    "datasetGD1"
   ]
  },
  {
   "cell_type": "code",
   "execution_count": 6,
   "metadata": {},
   "outputs": [
    {
     "data": {
      "text/html": [
       "<div>\n",
       "<style scoped>\n",
       "    .dataframe tbody tr th:only-of-type {\n",
       "        vertical-align: middle;\n",
       "    }\n",
       "\n",
       "    .dataframe tbody tr th {\n",
       "        vertical-align: top;\n",
       "    }\n",
       "\n",
       "    .dataframe thead th {\n",
       "        text-align: right;\n",
       "    }\n",
       "</style>\n",
       "<table border=\"1\" class=\"dataframe\">\n",
       "  <thead>\n",
       "    <tr style=\"text-align: right;\">\n",
       "      <th></th>\n",
       "      <th>DATE_TIME</th>\n",
       "      <th>PLANT_ID</th>\n",
       "      <th>SOURCE_KEY</th>\n",
       "      <th>DC_POWER</th>\n",
       "      <th>AC_POWER</th>\n",
       "      <th>DAILY_YIELD</th>\n",
       "      <th>TOTAL_YIELD</th>\n",
       "    </tr>\n",
       "  </thead>\n",
       "  <tbody>\n",
       "    <tr>\n",
       "      <th>0</th>\n",
       "      <td>15-05-2020 00:00</td>\n",
       "      <td>4135001</td>\n",
       "      <td>1BY6WEcLGh8j5v7</td>\n",
       "      <td>0.0</td>\n",
       "      <td>0.0</td>\n",
       "      <td>0.0</td>\n",
       "      <td>6259559.0</td>\n",
       "    </tr>\n",
       "    <tr>\n",
       "      <th>1</th>\n",
       "      <td>15-05-2020 00:00</td>\n",
       "      <td>4135001</td>\n",
       "      <td>1IF53ai7Xc0U56Y</td>\n",
       "      <td>0.0</td>\n",
       "      <td>0.0</td>\n",
       "      <td>0.0</td>\n",
       "      <td>6183645.0</td>\n",
       "    </tr>\n",
       "    <tr>\n",
       "      <th>2</th>\n",
       "      <td>15-05-2020 00:00</td>\n",
       "      <td>4135001</td>\n",
       "      <td>3PZuoBAID5Wc2HD</td>\n",
       "      <td>0.0</td>\n",
       "      <td>0.0</td>\n",
       "      <td>0.0</td>\n",
       "      <td>6987759.0</td>\n",
       "    </tr>\n",
       "    <tr>\n",
       "      <th>3</th>\n",
       "      <td>15-05-2020 00:00</td>\n",
       "      <td>4135001</td>\n",
       "      <td>7JYdWkrLSPkdwr4</td>\n",
       "      <td>0.0</td>\n",
       "      <td>0.0</td>\n",
       "      <td>0.0</td>\n",
       "      <td>7602960.0</td>\n",
       "    </tr>\n",
       "    <tr>\n",
       "      <th>4</th>\n",
       "      <td>15-05-2020 00:00</td>\n",
       "      <td>4135001</td>\n",
       "      <td>McdE0feGgRqW7Ca</td>\n",
       "      <td>0.0</td>\n",
       "      <td>0.0</td>\n",
       "      <td>0.0</td>\n",
       "      <td>7158964.0</td>\n",
       "    </tr>\n",
       "    <tr>\n",
       "      <th>...</th>\n",
       "      <td>...</td>\n",
       "      <td>...</td>\n",
       "      <td>...</td>\n",
       "      <td>...</td>\n",
       "      <td>...</td>\n",
       "      <td>...</td>\n",
       "      <td>...</td>\n",
       "    </tr>\n",
       "    <tr>\n",
       "      <th>60</th>\n",
       "      <td>15-05-2020 00:30</td>\n",
       "      <td>4135001</td>\n",
       "      <td>z9Y9gH1T5YWrNuG</td>\n",
       "      <td>0.0</td>\n",
       "      <td>0.0</td>\n",
       "      <td>0.0</td>\n",
       "      <td>7007866.0</td>\n",
       "    </tr>\n",
       "    <tr>\n",
       "      <th>61</th>\n",
       "      <td>15-05-2020 00:30</td>\n",
       "      <td>4135001</td>\n",
       "      <td>zBIq5rxdHJRwDNY</td>\n",
       "      <td>0.0</td>\n",
       "      <td>0.0</td>\n",
       "      <td>0.0</td>\n",
       "      <td>6339380.0</td>\n",
       "    </tr>\n",
       "    <tr>\n",
       "      <th>62</th>\n",
       "      <td>15-05-2020 00:30</td>\n",
       "      <td>4135001</td>\n",
       "      <td>zVJPv84UY57bAof</td>\n",
       "      <td>0.0</td>\n",
       "      <td>0.0</td>\n",
       "      <td>0.0</td>\n",
       "      <td>7116151.0</td>\n",
       "    </tr>\n",
       "    <tr>\n",
       "      <th>63</th>\n",
       "      <td>15-05-2020 00:45</td>\n",
       "      <td>4135001</td>\n",
       "      <td>1BY6WEcLGh8j5v7</td>\n",
       "      <td>0.0</td>\n",
       "      <td>0.0</td>\n",
       "      <td>0.0</td>\n",
       "      <td>6259559.0</td>\n",
       "    </tr>\n",
       "    <tr>\n",
       "      <th>64</th>\n",
       "      <td>15-05-2020 00:45</td>\n",
       "      <td>4135001</td>\n",
       "      <td>1IF53ai7Xc0U56Y</td>\n",
       "      <td>0.0</td>\n",
       "      <td>0.0</td>\n",
       "      <td>0.0</td>\n",
       "      <td>6183645.0</td>\n",
       "    </tr>\n",
       "  </tbody>\n",
       "</table>\n",
       "<p>65 rows × 7 columns</p>\n",
       "</div>"
      ],
      "text/plain": [
       "           DATE_TIME  PLANT_ID       SOURCE_KEY  DC_POWER  AC_POWER  \\\n",
       "0   15-05-2020 00:00   4135001  1BY6WEcLGh8j5v7       0.0       0.0   \n",
       "1   15-05-2020 00:00   4135001  1IF53ai7Xc0U56Y       0.0       0.0   \n",
       "2   15-05-2020 00:00   4135001  3PZuoBAID5Wc2HD       0.0       0.0   \n",
       "3   15-05-2020 00:00   4135001  7JYdWkrLSPkdwr4       0.0       0.0   \n",
       "4   15-05-2020 00:00   4135001  McdE0feGgRqW7Ca       0.0       0.0   \n",
       "..               ...       ...              ...       ...       ...   \n",
       "60  15-05-2020 00:30   4135001  z9Y9gH1T5YWrNuG       0.0       0.0   \n",
       "61  15-05-2020 00:30   4135001  zBIq5rxdHJRwDNY       0.0       0.0   \n",
       "62  15-05-2020 00:30   4135001  zVJPv84UY57bAof       0.0       0.0   \n",
       "63  15-05-2020 00:45   4135001  1BY6WEcLGh8j5v7       0.0       0.0   \n",
       "64  15-05-2020 00:45   4135001  1IF53ai7Xc0U56Y       0.0       0.0   \n",
       "\n",
       "    DAILY_YIELD  TOTAL_YIELD  \n",
       "0           0.0    6259559.0  \n",
       "1           0.0    6183645.0  \n",
       "2           0.0    6987759.0  \n",
       "3           0.0    7602960.0  \n",
       "4           0.0    7158964.0  \n",
       "..          ...          ...  \n",
       "60          0.0    7007866.0  \n",
       "61          0.0    6339380.0  \n",
       "62          0.0    7116151.0  \n",
       "63          0.0    6259559.0  \n",
       "64          0.0    6183645.0  \n",
       "\n",
       "[65 rows x 7 columns]"
      ]
     },
     "execution_count": 6,
     "metadata": {},
     "output_type": "execute_result"
    }
   ],
   "source": [
    "datasetGD1.head(65)"
   ]
  },
  {
   "cell_type": "code",
   "execution_count": 7,
   "metadata": {},
   "outputs": [],
   "source": [
    "datasetGD1['DATE_TIME'] = pd.to_datetime(datasetGD1['DATE_TIME'], format='%d-%m-%Y %H:%M')"
   ]
  },
  {
   "cell_type": "code",
   "execution_count": 8,
   "metadata": {},
   "outputs": [
    {
     "data": {
      "text/html": [
       "<div>\n",
       "<style scoped>\n",
       "    .dataframe tbody tr th:only-of-type {\n",
       "        vertical-align: middle;\n",
       "    }\n",
       "\n",
       "    .dataframe tbody tr th {\n",
       "        vertical-align: top;\n",
       "    }\n",
       "\n",
       "    .dataframe thead th {\n",
       "        text-align: right;\n",
       "    }\n",
       "</style>\n",
       "<table border=\"1\" class=\"dataframe\">\n",
       "  <thead>\n",
       "    <tr style=\"text-align: right;\">\n",
       "      <th></th>\n",
       "      <th>DATE_TIME</th>\n",
       "      <th>PLANT_ID</th>\n",
       "      <th>SOURCE_KEY</th>\n",
       "      <th>DC_POWER</th>\n",
       "      <th>AC_POWER</th>\n",
       "      <th>DAILY_YIELD</th>\n",
       "      <th>TOTAL_YIELD</th>\n",
       "    </tr>\n",
       "  </thead>\n",
       "  <tbody>\n",
       "    <tr>\n",
       "      <th>0</th>\n",
       "      <td>2020-05-15</td>\n",
       "      <td>4135001</td>\n",
       "      <td>1BY6WEcLGh8j5v7</td>\n",
       "      <td>0.0</td>\n",
       "      <td>0.0</td>\n",
       "      <td>0.0</td>\n",
       "      <td>6259559.0</td>\n",
       "    </tr>\n",
       "    <tr>\n",
       "      <th>1</th>\n",
       "      <td>2020-05-15</td>\n",
       "      <td>4135001</td>\n",
       "      <td>1IF53ai7Xc0U56Y</td>\n",
       "      <td>0.0</td>\n",
       "      <td>0.0</td>\n",
       "      <td>0.0</td>\n",
       "      <td>6183645.0</td>\n",
       "    </tr>\n",
       "    <tr>\n",
       "      <th>2</th>\n",
       "      <td>2020-05-15</td>\n",
       "      <td>4135001</td>\n",
       "      <td>3PZuoBAID5Wc2HD</td>\n",
       "      <td>0.0</td>\n",
       "      <td>0.0</td>\n",
       "      <td>0.0</td>\n",
       "      <td>6987759.0</td>\n",
       "    </tr>\n",
       "    <tr>\n",
       "      <th>3</th>\n",
       "      <td>2020-05-15</td>\n",
       "      <td>4135001</td>\n",
       "      <td>7JYdWkrLSPkdwr4</td>\n",
       "      <td>0.0</td>\n",
       "      <td>0.0</td>\n",
       "      <td>0.0</td>\n",
       "      <td>7602960.0</td>\n",
       "    </tr>\n",
       "    <tr>\n",
       "      <th>4</th>\n",
       "      <td>2020-05-15</td>\n",
       "      <td>4135001</td>\n",
       "      <td>McdE0feGgRqW7Ca</td>\n",
       "      <td>0.0</td>\n",
       "      <td>0.0</td>\n",
       "      <td>0.0</td>\n",
       "      <td>7158964.0</td>\n",
       "    </tr>\n",
       "  </tbody>\n",
       "</table>\n",
       "</div>"
      ],
      "text/plain": [
       "   DATE_TIME  PLANT_ID       SOURCE_KEY  DC_POWER  AC_POWER  DAILY_YIELD  \\\n",
       "0 2020-05-15   4135001  1BY6WEcLGh8j5v7       0.0       0.0          0.0   \n",
       "1 2020-05-15   4135001  1IF53ai7Xc0U56Y       0.0       0.0          0.0   \n",
       "2 2020-05-15   4135001  3PZuoBAID5Wc2HD       0.0       0.0          0.0   \n",
       "3 2020-05-15   4135001  7JYdWkrLSPkdwr4       0.0       0.0          0.0   \n",
       "4 2020-05-15   4135001  McdE0feGgRqW7Ca       0.0       0.0          0.0   \n",
       "\n",
       "   TOTAL_YIELD  \n",
       "0    6259559.0  \n",
       "1    6183645.0  \n",
       "2    6987759.0  \n",
       "3    7602960.0  \n",
       "4    7158964.0  "
      ]
     },
     "execution_count": 8,
     "metadata": {},
     "output_type": "execute_result"
    }
   ],
   "source": [
    "datasetGD1.head()"
   ]
  },
  {
   "cell_type": "code",
   "execution_count": 9,
   "metadata": {},
   "outputs": [],
   "source": [
    "# adding another column for only date (without time)\n",
    "datasetGD1['date'] = pd.to_datetime(datasetGD1['DATE_TIME']).dt.normalize()"
   ]
  },
  {
   "cell_type": "code",
   "execution_count": 10,
   "metadata": {},
   "outputs": [
    {
     "data": {
      "text/html": [
       "<div>\n",
       "<style scoped>\n",
       "    .dataframe tbody tr th:only-of-type {\n",
       "        vertical-align: middle;\n",
       "    }\n",
       "\n",
       "    .dataframe tbody tr th {\n",
       "        vertical-align: top;\n",
       "    }\n",
       "\n",
       "    .dataframe thead th {\n",
       "        text-align: right;\n",
       "    }\n",
       "</style>\n",
       "<table border=\"1\" class=\"dataframe\">\n",
       "  <thead>\n",
       "    <tr style=\"text-align: right;\">\n",
       "      <th></th>\n",
       "      <th>DATE_TIME</th>\n",
       "      <th>PLANT_ID</th>\n",
       "      <th>SOURCE_KEY</th>\n",
       "      <th>DC_POWER</th>\n",
       "      <th>AC_POWER</th>\n",
       "      <th>DAILY_YIELD</th>\n",
       "      <th>TOTAL_YIELD</th>\n",
       "      <th>date</th>\n",
       "    </tr>\n",
       "  </thead>\n",
       "  <tbody>\n",
       "    <tr>\n",
       "      <th>0</th>\n",
       "      <td>2020-05-15</td>\n",
       "      <td>4135001</td>\n",
       "      <td>1BY6WEcLGh8j5v7</td>\n",
       "      <td>0.0</td>\n",
       "      <td>0.0</td>\n",
       "      <td>0.0</td>\n",
       "      <td>6259559.0</td>\n",
       "      <td>2020-05-15</td>\n",
       "    </tr>\n",
       "    <tr>\n",
       "      <th>1</th>\n",
       "      <td>2020-05-15</td>\n",
       "      <td>4135001</td>\n",
       "      <td>1IF53ai7Xc0U56Y</td>\n",
       "      <td>0.0</td>\n",
       "      <td>0.0</td>\n",
       "      <td>0.0</td>\n",
       "      <td>6183645.0</td>\n",
       "      <td>2020-05-15</td>\n",
       "    </tr>\n",
       "    <tr>\n",
       "      <th>2</th>\n",
       "      <td>2020-05-15</td>\n",
       "      <td>4135001</td>\n",
       "      <td>3PZuoBAID5Wc2HD</td>\n",
       "      <td>0.0</td>\n",
       "      <td>0.0</td>\n",
       "      <td>0.0</td>\n",
       "      <td>6987759.0</td>\n",
       "      <td>2020-05-15</td>\n",
       "    </tr>\n",
       "    <tr>\n",
       "      <th>3</th>\n",
       "      <td>2020-05-15</td>\n",
       "      <td>4135001</td>\n",
       "      <td>7JYdWkrLSPkdwr4</td>\n",
       "      <td>0.0</td>\n",
       "      <td>0.0</td>\n",
       "      <td>0.0</td>\n",
       "      <td>7602960.0</td>\n",
       "      <td>2020-05-15</td>\n",
       "    </tr>\n",
       "    <tr>\n",
       "      <th>4</th>\n",
       "      <td>2020-05-15</td>\n",
       "      <td>4135001</td>\n",
       "      <td>McdE0feGgRqW7Ca</td>\n",
       "      <td>0.0</td>\n",
       "      <td>0.0</td>\n",
       "      <td>0.0</td>\n",
       "      <td>7158964.0</td>\n",
       "      <td>2020-05-15</td>\n",
       "    </tr>\n",
       "  </tbody>\n",
       "</table>\n",
       "</div>"
      ],
      "text/plain": [
       "   DATE_TIME  PLANT_ID       SOURCE_KEY  DC_POWER  AC_POWER  DAILY_YIELD  \\\n",
       "0 2020-05-15   4135001  1BY6WEcLGh8j5v7       0.0       0.0          0.0   \n",
       "1 2020-05-15   4135001  1IF53ai7Xc0U56Y       0.0       0.0          0.0   \n",
       "2 2020-05-15   4135001  3PZuoBAID5Wc2HD       0.0       0.0          0.0   \n",
       "3 2020-05-15   4135001  7JYdWkrLSPkdwr4       0.0       0.0          0.0   \n",
       "4 2020-05-15   4135001  McdE0feGgRqW7Ca       0.0       0.0          0.0   \n",
       "\n",
       "   TOTAL_YIELD       date  \n",
       "0    6259559.0 2020-05-15  \n",
       "1    6183645.0 2020-05-15  \n",
       "2    6987759.0 2020-05-15  \n",
       "3    7602960.0 2020-05-15  \n",
       "4    7158964.0 2020-05-15  "
      ]
     },
     "execution_count": 10,
     "metadata": {},
     "output_type": "execute_result"
    }
   ],
   "source": [
    "datasetGD1.head()"
   ]
  },
  {
   "cell_type": "markdown",
   "metadata": {},
   "source": [
    "## What is the mean value of Daily Yield"
   ]
  },
  {
   "cell_type": "code",
   "execution_count": 11,
   "metadata": {},
   "outputs": [],
   "source": [
    "# What is the mean value of Daily Yield\n",
    "# group the rows based on \"date\" and take the sum from DAILY_YIELD column\n",
    "meanYIELD = datasetGD1.groupby([\"date\"]).DAILY_YIELD.mean().reset_index()"
   ]
  },
  {
   "cell_type": "code",
   "execution_count": 12,
   "metadata": {},
   "outputs": [
    {
     "data": {
      "text/html": [
       "<div>\n",
       "<style scoped>\n",
       "    .dataframe tbody tr th:only-of-type {\n",
       "        vertical-align: middle;\n",
       "    }\n",
       "\n",
       "    .dataframe tbody tr th {\n",
       "        vertical-align: top;\n",
       "    }\n",
       "\n",
       "    .dataframe thead th {\n",
       "        text-align: right;\n",
       "    }\n",
       "</style>\n",
       "<table border=\"1\" class=\"dataframe\">\n",
       "  <thead>\n",
       "    <tr style=\"text-align: right;\">\n",
       "      <th></th>\n",
       "      <th>date</th>\n",
       "      <th>DAILY_YIELD</th>\n",
       "    </tr>\n",
       "  </thead>\n",
       "  <tbody>\n",
       "    <tr>\n",
       "      <th>0</th>\n",
       "      <td>2020-05-15</td>\n",
       "      <td>2586.279926</td>\n",
       "    </tr>\n",
       "    <tr>\n",
       "      <th>1</th>\n",
       "      <td>2020-05-16</td>\n",
       "      <td>3464.273323</td>\n",
       "    </tr>\n",
       "    <tr>\n",
       "      <th>2</th>\n",
       "      <td>2020-05-17</td>\n",
       "      <td>3695.106669</td>\n",
       "    </tr>\n",
       "    <tr>\n",
       "      <th>3</th>\n",
       "      <td>2020-05-18</td>\n",
       "      <td>2429.114465</td>\n",
       "    </tr>\n",
       "    <tr>\n",
       "      <th>4</th>\n",
       "      <td>2020-05-19</td>\n",
       "      <td>2962.975236</td>\n",
       "    </tr>\n",
       "  </tbody>\n",
       "</table>\n",
       "</div>"
      ],
      "text/plain": [
       "        date  DAILY_YIELD\n",
       "0 2020-05-15  2586.279926\n",
       "1 2020-05-16  3464.273323\n",
       "2 2020-05-17  3695.106669\n",
       "3 2020-05-18  2429.114465\n",
       "4 2020-05-19  2962.975236"
      ]
     },
     "execution_count": 12,
     "metadata": {},
     "output_type": "execute_result"
    }
   ],
   "source": [
    "meanYIELD.head()"
   ]
  },
  {
   "cell_type": "code",
   "execution_count": 13,
   "metadata": {},
   "outputs": [
    {
     "name": "stdout",
     "output_type": "stream",
     "text": [
      "(34, 2)\n"
     ]
    }
   ],
   "source": [
    "# It should give exactly the number of days = 34\n",
    "print(meanYIELD.shape)"
   ]
  },
  {
   "cell_type": "code",
   "execution_count": 18,
   "metadata": {},
   "outputs": [
    {
     "data": {
      "text/plain": [
       "Text(0, 0.5, 'mean value of daily yield')"
      ]
     },
     "execution_count": 18,
     "metadata": {},
     "output_type": "execute_result"
    },
    {
     "data": {
      "image/png": "[encoded data removed]",
      "text/plain": [
       "<Figure size 720x360 with 1 Axes>"
      ]
     },
     "metadata": {
      "needs_background": "light"
     },
     "output_type": "display_data"
    }
   ],
   "source": [
    "# plot the date and mean value of daily yield\n",
    "plt.figure(figsize=(10,5))\n",
    "plt.plot(meanYIELD['date'], meanYIELD['DAILY_YIELD'], color= '#117733')\n",
    "\n",
    "plt.xticks(rotation='vertical')\n",
    "plt.xlabel('TimeStamp')\n",
    "plt.ylabel('mean value of daily yield')"
   ]
  },
  {
   "cell_type": "code",
   "execution_count": 19,
   "metadata": {},
   "outputs": [
    {
     "data": {
      "text/plain": [
       "Text(0, 0.5, 'mean value of daily yield')"
      ]
     },
     "execution_count": 19,
     "metadata": {},
     "output_type": "execute_result"
    },
    {
     "data": {
      "image/png": "[encoded data removed]",
      "text/plain": [
       "<Figure size 720x360 with 1 Axes>"
      ]
     },
     "metadata": {
      "needs_background": "light"
     },
     "output_type": "display_data"
    }
   ],
   "source": [
    "# plot the date and mean value of daily yield by using bar graph\n",
    "fig = plt.figure(figsize=(10,5))\n",
    "ax = fig.add_subplot(111)\n",
    "ax.bar(meanYIELD['date'], meanYIELD['DAILY_YIELD'], color= '#117733')\n",
    "\n",
    "plt.xticks(rotation='vertical')\n",
    "ax.set_xlabel('TimeStamp')\n",
    "ax.set_ylabel('mean value of daily yield')\n",
    "\n"
   ]
  },
  {
   "cell_type": "markdown",
   "metadata": {},
   "source": [
    "## How Many inverters are There for each plant"
   ]
  },
  {
   "cell_type": "code",
   "execution_count": 20,
   "metadata": {},
   "outputs": [
    {
     "name": "stdout",
     "output_type": "stream",
     "text": [
      "\n",
      " Number of inverters:  22\n",
      "\n",
      " Key of inverters: \n",
      "\n",
      " dict_keys(['1BY6WEcLGh8j5v7', '1IF53ai7Xc0U56Y', '3PZuoBAID5Wc2HD', '7JYdWkrLSPkdwr4', 'McdE0feGgRqW7Ca', 'VHMLBKoKgIrUVDU', 'WRmjgnKYAwPKWDb', 'ZnxXDlPa8U1GXgE', 'ZoEaEvLYb1n2sOq', 'adLQvlD726eNBSB', 'bvBOhCH3iADSZry', 'iCRJl6heRkivqQ3', 'ih0vzX44oOqAx2f', 'pkci93gMrogZuBj', 'rGa61gmuvPhdLxV', 'sjndEbLyjtCKgGv', 'uHbuxQJl8lW7ozc', 'wCURE6d3bPkepu2', 'z9Y9gH1T5YWrNuG', 'zBIq5rxdHJRwDNY', 'zVJPv84UY57bAof', 'YxYtjZvoooNbGkE'])\n"
     ]
    },
    {
     "data": {
      "text/plain": [
       "dict_values([3154, 3119, 3118, 3133, 3124, 3133, 3118, 3130, 3123, 3119, 3155, 3125, 3130, 3125, 3124, 3124, 3125, 3126, 3126, 3119, 3124, 3104])"
      ]
     },
     "execution_count": 20,
     "metadata": {},
     "output_type": "execute_result"
    }
   ],
   "source": [
    "# how many inverters are There for each plant\n",
    "from collections import Counter\n",
    "inverters_key = Counter(datasetGD1['SOURCE_KEY']).keys()\n",
    "# number of inverters\n",
    "print('\\n Number of inverters: ',len(inverters_key))\n",
    "\n",
    "print('\\n Key of inverters: \\n\\n', inverters_key) # finding unique elements in SOURCE_KEY which shows the inverters\n",
    "\n",
    "\n",
    "# total number of measurements from each inverter over the whole 34 days\n",
    "Counter(datasetGD1['SOURCE_KEY']).values() # finding frequency of elements in SOURCE_KEY"
   ]
  },
  {
   "cell_type": "markdown",
   "metadata": {},
   "source": [
    "# What is the Maximum and Minimum amount of DC & AC"
   ]
  },
  {
   "cell_type": "code",
   "execution_count": 22,
   "metadata": {},
   "outputs": [
    {
     "name": "stdout",
     "output_type": "stream",
     "text": [
      "\n",
      " Maximum amount of DC in each day:\n",
      "\n",
      " 7898965.11305902\n",
      "\n",
      " Minimum amount of DC in each day:\n",
      "\n",
      " 4812548.535706401\n",
      "\n",
      " Maximum amount of AC in each day:\n",
      "\n",
      " 771576.1613118657\n",
      "\n",
      " Minimum amount of AC in each day:\n",
      "\n",
      " 470969.70892881916\n"
     ]
    }
   ],
   "source": [
    "# What is the maximum and minimum amount of DC\n",
    "# group the rows based on date and make max of DC_POWER \n",
    "sumDCPower = datasetGD1.groupby([\"date\"]).DC_POWER.sum().reset_index()\n",
    "maxDCPower = sumDCPower['DC_POWER'].max()\n",
    "minDCPower = sumDCPower['DC_POWER'].min()\n",
    "print('\\n Maximum amount of DC in each day:\\n\\n',maxDCPower)\n",
    "print('\\n Minimum amount of DC in each day:\\n\\n',minDCPower)\n",
    "\n",
    "# What is the maximum and minimum amount of AC\n",
    "sumACPower = datasetGD1.groupby([\"date\"]).AC_POWER.sum().reset_index()\n",
    "maxACPower = sumACPower['AC_POWER'].max()\n",
    "minACPower = sumACPower['AC_POWER'].min()\n",
    "print('\\n Maximum amount of AC in each day:\\n\\n',maxACPower)\n",
    "print('\\n Minimum amount of AC in each day:\\n\\n',minACPower)\n"
   ]
  },
  {
   "cell_type": "markdown",
   "metadata": {},
   "source": [
    "# Which SOURCE_KEY has produced max DC_Power & Graph"
   ]
  },
  {
   "cell_type": "code",
   "execution_count": 24,
   "metadata": {},
   "outputs": [
    {
     "name": "stdout",
     "output_type": "stream",
     "text": [
      "         SOURCE_KEY      DC_POWER\n",
      "0   1BY6WEcLGh8j5v7  9.063716e+06\n",
      "1   1IF53ai7Xc0U56Y  1.006294e+07\n",
      "2   3PZuoBAID5Wc2HD  1.004313e+07\n",
      "3   7JYdWkrLSPkdwr4  9.815350e+06\n",
      "4   McdE0feGgRqW7Ca  1.003212e+07\n",
      "5   VHMLBKoKgIrUVDU  1.005725e+07\n",
      "6   WRmjgnKYAwPKWDb  9.838489e+06\n",
      "7   YxYtjZvoooNbGkE  9.869145e+06\n",
      "8   ZnxXDlPa8U1GXgE  9.997405e+06\n",
      "9   ZoEaEvLYb1n2sOq  9.803128e+06\n",
      "10  adLQvlD726eNBSB  1.019778e+07\n",
      "11  bvBOhCH3iADSZry  8.925490e+06\n",
      "12  iCRJl6heRkivqQ3  9.987733e+06\n",
      "13  ih0vzX44oOqAx2f  9.695845e+06\n",
      "14  pkci93gMrogZuBj  9.895623e+06\n",
      "15  rGa61gmuvPhdLxV  9.881965e+06\n",
      "16  sjndEbLyjtCKgGv  9.835197e+06\n",
      "17  uHbuxQJl8lW7ozc  9.985363e+06\n",
      "18  wCURE6d3bPkepu2  9.911622e+06\n",
      "19  z9Y9gH1T5YWrNuG  9.797002e+06\n",
      "20  zBIq5rxdHJRwDNY  9.820452e+06\n",
      "21  zVJPv84UY57bAof  9.956927e+06\n",
      "\n",
      " Maximum prodcued DC power:\n",
      "\n",
      " 10197781.559583593\n",
      "\n",
      " The index of maximum prodcued DC power:\n",
      "\n",
      " 10\n",
      "\n",
      " The Source Key of the inverter giving the maximum prodcued DC power:\n",
      "\n",
      " adLQvlD726eNBSB\n"
     ]
    },
    {
     "data": {
      "text/plain": [
       "Text(0, 0.5, 'Total DC power over 34 days')"
      ]
     },
     "execution_count": 24,
     "metadata": {},
     "output_type": "execute_result"
    },
    {
     "data": {
      "image/png": "[encoded data removed]",
      "text/plain": [
       "<Figure size 720x360 with 1 Axes>"
      ]
     },
     "metadata": {
      "needs_background": "light"
     },
     "output_type": "display_data"
    }
   ],
   "source": [
    "# which SOURCE_KEY has produced max DC_Power\n",
    "TotalProducedDC = datasetGD1.groupby([\"SOURCE_KEY\"]).DC_POWER.sum().reset_index()\n",
    "print(TotalProducedDC)\n",
    "maxDCPower_inverter = TotalProducedDC['DC_POWER'].max()\n",
    "maxDCPower_index = TotalProducedDC['DC_POWER'].idxmax()\n",
    "MaxDCPower_inverter = TotalProducedDC['SOURCE_KEY'][10]\n",
    "print('\\n Maximum prodcued DC power:\\n\\n',maxDCPower_inverter)\n",
    "print('\\n The index of maximum prodcued DC power:\\n\\n',maxDCPower_index)\n",
    "print('\\n The Source Key of the inverter giving the maximum prodcued DC power:\\n\\n',MaxDCPower_inverter)\n",
    "\n",
    "fig = plt.figure(figsize=(10,5))\n",
    "ax = fig.add_subplot(111)\n",
    "plt.xticks(rotation='vertical')\n",
    "ax.bar(TotalProducedDC['SOURCE_KEY'], TotalProducedDC['DC_POWER'], color= '#117733')\n",
    "\n",
    "ax.set_xlabel('SOURCE KEY for inverters')\n",
    "ax.set_ylabel('Total DC power over 34 days')"
   ]
  },
  {
   "cell_type": "markdown",
   "metadata": {},
   "source": [
    "# Which SOURCE_KEY has produced max AC_Power"
   ]
  },
  {
   "cell_type": "code",
   "execution_count": 25,
   "metadata": {},
   "outputs": [
    {
     "name": "stdout",
     "output_type": "stream",
     "text": [
      "         SOURCE_KEY       AC_POWER\n",
      "0   1BY6WEcLGh8j5v7  886665.326069\n",
      "1   1IF53ai7Xc0U56Y  984007.153452\n",
      "2   3PZuoBAID5Wc2HD  982068.208928\n",
      "3   7JYdWkrLSPkdwr4  959906.307338\n",
      "4   McdE0feGgRqW7Ca  981080.708217\n",
      "5   VHMLBKoKgIrUVDU  983449.000642\n",
      "6   WRmjgnKYAwPKWDb  962138.298813\n",
      "7   YxYtjZvoooNbGkE  965127.756186\n",
      "8   ZnxXDlPa8U1GXgE  977644.316190\n",
      "9   ZoEaEvLYb1n2sOq  958700.484522\n",
      "10  adLQvlD726eNBSB  997125.156663\n",
      "11  bvBOhCH3iADSZry  873237.550835\n",
      "12  iCRJl6heRkivqQ3  976688.499523\n",
      "13  ih0vzX44oOqAx2f  948272.430359\n",
      "14  pkci93gMrogZuBj  967719.414521\n",
      "15  rGa61gmuvPhdLxV  966395.835123\n",
      "16  sjndEbLyjtCKgGv  961917.916550\n",
      "17  uHbuxQJl8lW7ozc  976462.011390\n",
      "18  wCURE6d3bPkepu2  969260.200356\n",
      "19  z9Y9gH1T5YWrNuG  958094.071906\n",
      "20  zBIq5rxdHJRwDNY  960419.146543\n",
      "21  zVJPv84UY57bAof  973677.901192\n",
      "\n",
      " Maximum prodcued AC power:\n",
      "\n",
      " 997125.156662539\n",
      "\n",
      " The index of maximum prodcued AC power:\n",
      "\n",
      " 10\n",
      "\n",
      " The Source Key of the inverter giving the maximum prodcued AC power:\n",
      "\n",
      " adLQvlD726eNBSB\n"
     ]
    },
    {
     "data": {
      "text/plain": [
       "Text(0, 0.5, 'Total AC power over 34 days')"
      ]
     },
     "execution_count": 25,
     "metadata": {},
     "output_type": "execute_result"
    },
    {
     "data": {
      "image/png": "[encoded data removed]",
      "text/plain": [
       "<Figure size 720x360 with 1 Axes>"
      ]
     },
     "metadata": {
      "needs_background": "light"
     },
     "output_type": "display_data"
    }
   ],
   "source": [
    "# which SOURCE_KEY has produced max AC_Power\n",
    "TotalProducedAC = datasetGD1.groupby([\"SOURCE_KEY\"]).AC_POWER.sum().reset_index()\n",
    "print(TotalProducedAC)\n",
    "maxACPower_inverter = TotalProducedAC['AC_POWER'].max()\n",
    "maxACPower_index = TotalProducedAC['AC_POWER'].idxmax()\n",
    "MaxACPower_inverter = TotalProducedAC['SOURCE_KEY'][10]\n",
    "print('\\n Maximum prodcued AC power:\\n\\n',maxACPower_inverter)\n",
    "print('\\n The index of maximum prodcued AC power:\\n\\n',maxACPower_index)\n",
    "print('\\n The Source Key of the inverter giving the maximum prodcued AC power:\\n\\n',MaxACPower_inverter)\n",
    "\n",
    "fig = plt.figure(figsize=(10,5))\n",
    "ax = fig.add_subplot(111)\n",
    "plt.xticks(rotation='vertical')\n",
    "ax.bar(TotalProducedAC['SOURCE_KEY'], TotalProducedAC['AC_POWER'], color= '#117733')\n",
    "\n",
    "ax.set_xlabel('SOURCE KEY for inverters')\n",
    "ax.set_ylabel('Total AC power over 34 days')\n"
   ]
  },
  {
   "cell_type": "markdown",
   "metadata": {},
   "source": [
    "# Rank the inverters based on the total DC power they produce over 34 days"
   ]
  },
  {
   "cell_type": "code",
   "execution_count": 26,
   "metadata": {},
   "outputs": [
    {
     "data": {
      "text/html": [
       "<div>\n",
       "<style scoped>\n",
       "    .dataframe tbody tr th:only-of-type {\n",
       "        vertical-align: middle;\n",
       "    }\n",
       "\n",
       "    .dataframe tbody tr th {\n",
       "        vertical-align: top;\n",
       "    }\n",
       "\n",
       "    .dataframe thead th {\n",
       "        text-align: right;\n",
       "    }\n",
       "</style>\n",
       "<table border=\"1\" class=\"dataframe\">\n",
       "  <thead>\n",
       "    <tr style=\"text-align: right;\">\n",
       "      <th></th>\n",
       "      <th>SOURCE_KEY</th>\n",
       "      <th>DC_POWER</th>\n",
       "      <th>rank</th>\n",
       "    </tr>\n",
       "  </thead>\n",
       "  <tbody>\n",
       "    <tr>\n",
       "      <th>10</th>\n",
       "      <td>adLQvlD726eNBSB</td>\n",
       "      <td>1.019778e+07</td>\n",
       "      <td>1.0</td>\n",
       "    </tr>\n",
       "    <tr>\n",
       "      <th>1</th>\n",
       "      <td>1IF53ai7Xc0U56Y</td>\n",
       "      <td>1.006294e+07</td>\n",
       "      <td>2.0</td>\n",
       "    </tr>\n",
       "    <tr>\n",
       "      <th>5</th>\n",
       "      <td>VHMLBKoKgIrUVDU</td>\n",
       "      <td>1.005725e+07</td>\n",
       "      <td>3.0</td>\n",
       "    </tr>\n",
       "    <tr>\n",
       "      <th>2</th>\n",
       "      <td>3PZuoBAID5Wc2HD</td>\n",
       "      <td>1.004313e+07</td>\n",
       "      <td>4.0</td>\n",
       "    </tr>\n",
       "    <tr>\n",
       "      <th>4</th>\n",
       "      <td>McdE0feGgRqW7Ca</td>\n",
       "      <td>1.003212e+07</td>\n",
       "      <td>5.0</td>\n",
       "    </tr>\n",
       "    <tr>\n",
       "      <th>8</th>\n",
       "      <td>ZnxXDlPa8U1GXgE</td>\n",
       "      <td>9.997405e+06</td>\n",
       "      <td>6.0</td>\n",
       "    </tr>\n",
       "    <tr>\n",
       "      <th>12</th>\n",
       "      <td>iCRJl6heRkivqQ3</td>\n",
       "      <td>9.987733e+06</td>\n",
       "      <td>7.0</td>\n",
       "    </tr>\n",
       "    <tr>\n",
       "      <th>17</th>\n",
       "      <td>uHbuxQJl8lW7ozc</td>\n",
       "      <td>9.985363e+06</td>\n",
       "      <td>8.0</td>\n",
       "    </tr>\n",
       "    <tr>\n",
       "      <th>21</th>\n",
       "      <td>zVJPv84UY57bAof</td>\n",
       "      <td>9.956927e+06</td>\n",
       "      <td>9.0</td>\n",
       "    </tr>\n",
       "    <tr>\n",
       "      <th>18</th>\n",
       "      <td>wCURE6d3bPkepu2</td>\n",
       "      <td>9.911622e+06</td>\n",
       "      <td>10.0</td>\n",
       "    </tr>\n",
       "    <tr>\n",
       "      <th>14</th>\n",
       "      <td>pkci93gMrogZuBj</td>\n",
       "      <td>9.895623e+06</td>\n",
       "      <td>11.0</td>\n",
       "    </tr>\n",
       "    <tr>\n",
       "      <th>15</th>\n",
       "      <td>rGa61gmuvPhdLxV</td>\n",
       "      <td>9.881965e+06</td>\n",
       "      <td>12.0</td>\n",
       "    </tr>\n",
       "    <tr>\n",
       "      <th>7</th>\n",
       "      <td>YxYtjZvoooNbGkE</td>\n",
       "      <td>9.869145e+06</td>\n",
       "      <td>13.0</td>\n",
       "    </tr>\n",
       "    <tr>\n",
       "      <th>6</th>\n",
       "      <td>WRmjgnKYAwPKWDb</td>\n",
       "      <td>9.838489e+06</td>\n",
       "      <td>14.0</td>\n",
       "    </tr>\n",
       "    <tr>\n",
       "      <th>16</th>\n",
       "      <td>sjndEbLyjtCKgGv</td>\n",
       "      <td>9.835197e+06</td>\n",
       "      <td>15.0</td>\n",
       "    </tr>\n",
       "    <tr>\n",
       "      <th>20</th>\n",
       "      <td>zBIq5rxdHJRwDNY</td>\n",
       "      <td>9.820452e+06</td>\n",
       "      <td>16.0</td>\n",
       "    </tr>\n",
       "    <tr>\n",
       "      <th>3</th>\n",
       "      <td>7JYdWkrLSPkdwr4</td>\n",
       "      <td>9.815350e+06</td>\n",
       "      <td>17.0</td>\n",
       "    </tr>\n",
       "    <tr>\n",
       "      <th>9</th>\n",
       "      <td>ZoEaEvLYb1n2sOq</td>\n",
       "      <td>9.803128e+06</td>\n",
       "      <td>18.0</td>\n",
       "    </tr>\n",
       "    <tr>\n",
       "      <th>19</th>\n",
       "      <td>z9Y9gH1T5YWrNuG</td>\n",
       "      <td>9.797002e+06</td>\n",
       "      <td>19.0</td>\n",
       "    </tr>\n",
       "    <tr>\n",
       "      <th>13</th>\n",
       "      <td>ih0vzX44oOqAx2f</td>\n",
       "      <td>9.695845e+06</td>\n",
       "      <td>20.0</td>\n",
       "    </tr>\n",
       "    <tr>\n",
       "      <th>0</th>\n",
       "      <td>1BY6WEcLGh8j5v7</td>\n",
       "      <td>9.063716e+06</td>\n",
       "      <td>21.0</td>\n",
       "    </tr>\n",
       "    <tr>\n",
       "      <th>11</th>\n",
       "      <td>bvBOhCH3iADSZry</td>\n",
       "      <td>8.925490e+06</td>\n",
       "      <td>22.0</td>\n",
       "    </tr>\n",
       "  </tbody>\n",
       "</table>\n",
       "</div>"
      ],
      "text/plain": [
       "         SOURCE_KEY      DC_POWER  rank\n",
       "10  adLQvlD726eNBSB  1.019778e+07   1.0\n",
       "1   1IF53ai7Xc0U56Y  1.006294e+07   2.0\n",
       "5   VHMLBKoKgIrUVDU  1.005725e+07   3.0\n",
       "2   3PZuoBAID5Wc2HD  1.004313e+07   4.0\n",
       "4   McdE0feGgRqW7Ca  1.003212e+07   5.0\n",
       "8   ZnxXDlPa8U1GXgE  9.997405e+06   6.0\n",
       "12  iCRJl6heRkivqQ3  9.987733e+06   7.0\n",
       "17  uHbuxQJl8lW7ozc  9.985363e+06   8.0\n",
       "21  zVJPv84UY57bAof  9.956927e+06   9.0\n",
       "18  wCURE6d3bPkepu2  9.911622e+06  10.0\n",
       "14  pkci93gMrogZuBj  9.895623e+06  11.0\n",
       "15  rGa61gmuvPhdLxV  9.881965e+06  12.0\n",
       "7   YxYtjZvoooNbGkE  9.869145e+06  13.0\n",
       "6   WRmjgnKYAwPKWDb  9.838489e+06  14.0\n",
       "16  sjndEbLyjtCKgGv  9.835197e+06  15.0\n",
       "20  zBIq5rxdHJRwDNY  9.820452e+06  16.0\n",
       "3   7JYdWkrLSPkdwr4  9.815350e+06  17.0\n",
       "9   ZoEaEvLYb1n2sOq  9.803128e+06  18.0\n",
       "19  z9Y9gH1T5YWrNuG  9.797002e+06  19.0\n",
       "13  ih0vzX44oOqAx2f  9.695845e+06  20.0\n",
       "0   1BY6WEcLGh8j5v7  9.063716e+06  21.0\n",
       "11  bvBOhCH3iADSZry  8.925490e+06  22.0"
      ]
     },
     "execution_count": 26,
     "metadata": {},
     "output_type": "execute_result"
    }
   ],
   "source": [
    "# Rank the inverters based on the total DC power they produce over 34 days\n",
    "TotalProducedDC = datasetGD1.groupby([\"SOURCE_KEY\"]).DC_POWER.sum().reset_index()\n",
    "# add a new column for rank\n",
    "TotalProducedDC['rank'] = TotalProducedDC['DC_POWER'].rank(ascending=False)\n",
    "#print(TotalProducedDC)\n",
    "# sort based on rank\n",
    "SortTotalProducedDC = TotalProducedDC.sort_values('rank')\n",
    "TotalProducedDC.sort_values('rank')\n"
   ]
  },
  {
   "cell_type": "code",
   "execution_count": 28,
   "metadata": {},
   "outputs": [
    {
     "data": {
      "text/plain": [
       "Text(0, 0.5, 'Ranked Total DC power over 34 days')"
      ]
     },
     "execution_count": 28,
     "metadata": {},
     "output_type": "execute_result"
    },
    {
     "data": {
      "image/png": "[encoded data removed]",
      "text/plain": [
       "<Figure size 720x360 with 1 Axes>"
      ]
     },
     "metadata": {
      "needs_background": "light"
     },
     "output_type": "display_data"
    }
   ],
   "source": [
    "# Graph for Rank the inverters based on the total DC power they produce over 34 days\n",
    "fig = plt.figure(figsize=(10,5))\n",
    "ax = fig.add_subplot(111)\n",
    "ax.bar(SortTotalProducedDC['SOURCE_KEY'], SortTotalProducedDC['DC_POWER'], color= '#117733')\n",
    "\n",
    "plt.xticks(rotation='vertical')\n",
    "ax.set_xlabel('SOURCE KEY for inverters')\n",
    "ax.set_ylabel('Ranked Total DC power over 34 days')\n"
   ]
  },
  {
   "cell_type": "markdown",
   "metadata": {},
   "source": [
    "# Rank the inverters based on the total AC power they produce over 34 days"
   ]
  },
  {
   "cell_type": "code",
   "execution_count": 29,
   "metadata": {},
   "outputs": [
    {
     "data": {
      "text/html": [
       "<div>\n",
       "<style scoped>\n",
       "    .dataframe tbody tr th:only-of-type {\n",
       "        vertical-align: middle;\n",
       "    }\n",
       "\n",
       "    .dataframe tbody tr th {\n",
       "        vertical-align: top;\n",
       "    }\n",
       "\n",
       "    .dataframe thead th {\n",
       "        text-align: right;\n",
       "    }\n",
       "</style>\n",
       "<table border=\"1\" class=\"dataframe\">\n",
       "  <thead>\n",
       "    <tr style=\"text-align: right;\">\n",
       "      <th></th>\n",
       "      <th>SOURCE_KEY</th>\n",
       "      <th>AC_POWER</th>\n",
       "      <th>rank</th>\n",
       "    </tr>\n",
       "  </thead>\n",
       "  <tbody>\n",
       "    <tr>\n",
       "      <th>10</th>\n",
       "      <td>adLQvlD726eNBSB</td>\n",
       "      <td>997125.156663</td>\n",
       "      <td>1.0</td>\n",
       "    </tr>\n",
       "    <tr>\n",
       "      <th>1</th>\n",
       "      <td>1IF53ai7Xc0U56Y</td>\n",
       "      <td>984007.153452</td>\n",
       "      <td>2.0</td>\n",
       "    </tr>\n",
       "    <tr>\n",
       "      <th>5</th>\n",
       "      <td>VHMLBKoKgIrUVDU</td>\n",
       "      <td>983449.000642</td>\n",
       "      <td>3.0</td>\n",
       "    </tr>\n",
       "    <tr>\n",
       "      <th>2</th>\n",
       "      <td>3PZuoBAID5Wc2HD</td>\n",
       "      <td>982068.208928</td>\n",
       "      <td>4.0</td>\n",
       "    </tr>\n",
       "    <tr>\n",
       "      <th>4</th>\n",
       "      <td>McdE0feGgRqW7Ca</td>\n",
       "      <td>981080.708217</td>\n",
       "      <td>5.0</td>\n",
       "    </tr>\n",
       "    <tr>\n",
       "      <th>8</th>\n",
       "      <td>ZnxXDlPa8U1GXgE</td>\n",
       "      <td>977644.316190</td>\n",
       "      <td>6.0</td>\n",
       "    </tr>\n",
       "    <tr>\n",
       "      <th>12</th>\n",
       "      <td>iCRJl6heRkivqQ3</td>\n",
       "      <td>976688.499523</td>\n",
       "      <td>7.0</td>\n",
       "    </tr>\n",
       "    <tr>\n",
       "      <th>17</th>\n",
       "      <td>uHbuxQJl8lW7ozc</td>\n",
       "      <td>976462.011390</td>\n",
       "      <td>8.0</td>\n",
       "    </tr>\n",
       "    <tr>\n",
       "      <th>21</th>\n",
       "      <td>zVJPv84UY57bAof</td>\n",
       "      <td>973677.901192</td>\n",
       "      <td>9.0</td>\n",
       "    </tr>\n",
       "    <tr>\n",
       "      <th>18</th>\n",
       "      <td>wCURE6d3bPkepu2</td>\n",
       "      <td>969260.200356</td>\n",
       "      <td>10.0</td>\n",
       "    </tr>\n",
       "    <tr>\n",
       "      <th>14</th>\n",
       "      <td>pkci93gMrogZuBj</td>\n",
       "      <td>967719.414521</td>\n",
       "      <td>11.0</td>\n",
       "    </tr>\n",
       "    <tr>\n",
       "      <th>15</th>\n",
       "      <td>rGa61gmuvPhdLxV</td>\n",
       "      <td>966395.835123</td>\n",
       "      <td>12.0</td>\n",
       "    </tr>\n",
       "    <tr>\n",
       "      <th>7</th>\n",
       "      <td>YxYtjZvoooNbGkE</td>\n",
       "      <td>965127.756186</td>\n",
       "      <td>13.0</td>\n",
       "    </tr>\n",
       "    <tr>\n",
       "      <th>6</th>\n",
       "      <td>WRmjgnKYAwPKWDb</td>\n",
       "      <td>962138.298813</td>\n",
       "      <td>14.0</td>\n",
       "    </tr>\n",
       "    <tr>\n",
       "      <th>16</th>\n",
       "      <td>sjndEbLyjtCKgGv</td>\n",
       "      <td>961917.916550</td>\n",
       "      <td>15.0</td>\n",
       "    </tr>\n",
       "    <tr>\n",
       "      <th>20</th>\n",
       "      <td>zBIq5rxdHJRwDNY</td>\n",
       "      <td>960419.146543</td>\n",
       "      <td>16.0</td>\n",
       "    </tr>\n",
       "    <tr>\n",
       "      <th>3</th>\n",
       "      <td>7JYdWkrLSPkdwr4</td>\n",
       "      <td>959906.307338</td>\n",
       "      <td>17.0</td>\n",
       "    </tr>\n",
       "    <tr>\n",
       "      <th>9</th>\n",
       "      <td>ZoEaEvLYb1n2sOq</td>\n",
       "      <td>958700.484522</td>\n",
       "      <td>18.0</td>\n",
       "    </tr>\n",
       "    <tr>\n",
       "      <th>19</th>\n",
       "      <td>z9Y9gH1T5YWrNuG</td>\n",
       "      <td>958094.071906</td>\n",
       "      <td>19.0</td>\n",
       "    </tr>\n",
       "    <tr>\n",
       "      <th>13</th>\n",
       "      <td>ih0vzX44oOqAx2f</td>\n",
       "      <td>948272.430359</td>\n",
       "      <td>20.0</td>\n",
       "    </tr>\n",
       "    <tr>\n",
       "      <th>0</th>\n",
       "      <td>1BY6WEcLGh8j5v7</td>\n",
       "      <td>886665.326069</td>\n",
       "      <td>21.0</td>\n",
       "    </tr>\n",
       "    <tr>\n",
       "      <th>11</th>\n",
       "      <td>bvBOhCH3iADSZry</td>\n",
       "      <td>873237.550835</td>\n",
       "      <td>22.0</td>\n",
       "    </tr>\n",
       "  </tbody>\n",
       "</table>\n",
       "</div>"
      ],
      "text/plain": [
       "         SOURCE_KEY       AC_POWER  rank\n",
       "10  adLQvlD726eNBSB  997125.156663   1.0\n",
       "1   1IF53ai7Xc0U56Y  984007.153452   2.0\n",
       "5   VHMLBKoKgIrUVDU  983449.000642   3.0\n",
       "2   3PZuoBAID5Wc2HD  982068.208928   4.0\n",
       "4   McdE0feGgRqW7Ca  981080.708217   5.0\n",
       "8   ZnxXDlPa8U1GXgE  977644.316190   6.0\n",
       "12  iCRJl6heRkivqQ3  976688.499523   7.0\n",
       "17  uHbuxQJl8lW7ozc  976462.011390   8.0\n",
       "21  zVJPv84UY57bAof  973677.901192   9.0\n",
       "18  wCURE6d3bPkepu2  969260.200356  10.0\n",
       "14  pkci93gMrogZuBj  967719.414521  11.0\n",
       "15  rGa61gmuvPhdLxV  966395.835123  12.0\n",
       "7   YxYtjZvoooNbGkE  965127.756186  13.0\n",
       "6   WRmjgnKYAwPKWDb  962138.298813  14.0\n",
       "16  sjndEbLyjtCKgGv  961917.916550  15.0\n",
       "20  zBIq5rxdHJRwDNY  960419.146543  16.0\n",
       "3   7JYdWkrLSPkdwr4  959906.307338  17.0\n",
       "9   ZoEaEvLYb1n2sOq  958700.484522  18.0\n",
       "19  z9Y9gH1T5YWrNuG  958094.071906  19.0\n",
       "13  ih0vzX44oOqAx2f  948272.430359  20.0\n",
       "0   1BY6WEcLGh8j5v7  886665.326069  21.0\n",
       "11  bvBOhCH3iADSZry  873237.550835  22.0"
      ]
     },
     "execution_count": 29,
     "metadata": {},
     "output_type": "execute_result"
    }
   ],
   "source": [
    "# Rank the inverters based on the total AC power they produce over 34 days\n",
    "TotalProducedAC = datasetGD1.groupby([\"SOURCE_KEY\"]).AC_POWER.sum().reset_index()\n",
    "# add a new column for rank\n",
    "TotalProducedAC['rank'] = TotalProducedAC['AC_POWER'].rank(ascending=False)\n",
    "#print(TotalProducedDC)\n",
    "# sort based on rank\n",
    "SortTotalProducedAC = TotalProducedAC.sort_values('rank')\n",
    "TotalProducedAC.sort_values('rank')\n"
   ]
  },
  {
   "cell_type": "code",
   "execution_count": 30,
   "metadata": {},
   "outputs": [
    {
     "data": {
      "text/plain": [
       "Text(0, 0.5, 'Ranked Total AC power over 34 days')"
      ]
     },
     "execution_count": 30,
     "metadata": {},
     "output_type": "execute_result"
    },
    {
     "data": {
      "image/png": "[encoded data removed]",
      "text/plain": [
       "<Figure size 720x360 with 1 Axes>"
      ]
     },
     "metadata": {
      "needs_background": "light"
     },
     "output_type": "display_data"
    }
   ],
   "source": [
    "# Graph for Rank the inverters based on the total AC power they produce over 34 days\n",
    "fig = plt.figure(figsize=(10,5))\n",
    "ax = fig.add_subplot(111)\n",
    "ax.bar(SortTotalProducedAC['SOURCE_KEY'],SortTotalProducedAC['AC_POWER'], color= '#117733')\n",
    "\n",
    "plt.xticks(rotation='vertical')\n",
    "ax.set_xlabel('SOURCE KEY for inverters')\n",
    "ax.set_ylabel('Ranked Total AC power over 34 days')\n"
   ]
  },
  {
   "cell_type": "markdown",
   "metadata": {},
   "source": [
    "# Graphs that Explain The Patterns For ttributes Independent of Other Variables"
   ]
  },
  {
   "cell_type": "code",
   "execution_count": 31,
   "metadata": {},
   "outputs": [
    {
     "data": {
      "text/plain": [
       "Text(0, 0.5, 'DC_POWER')"
      ]
     },
     "execution_count": 31,
     "metadata": {},
     "output_type": "execute_result"
    },
    {
     "data": {
      "image/png": "[encoded data removed]",
      "text/plain": [
       "<Figure size 720x360 with 1 Axes>"
      ]
     },
     "metadata": {
      "needs_background": "light"
     },
     "output_type": "display_data"
    }
   ],
   "source": [
    "# plot nTimeStamp for DC_POWER\n",
    "fig = plt.figure(figsize=(10,5))\n",
    "ax = fig.add_subplot(111)\n",
    "ax.bar(datasetGD1['date'], datasetGD1['DC_POWER'], color= '#a65628')\n",
    "\n",
    "plt.xticks(rotation='vertical')\n",
    "ax.set_xlabel('TimeStamp')\n",
    "ax.set_ylabel('DC_POWER')\n"
   ]
  },
  {
   "cell_type": "code",
   "execution_count": 32,
   "metadata": {},
   "outputs": [
    {
     "data": {
      "text/plain": [
       "Text(0, 0.5, 'AC_POWER')"
      ]
     },
     "execution_count": 32,
     "metadata": {},
     "output_type": "execute_result"
    },
    {
     "data": {
      "image/png": "[encoded data removed]",
      "text/plain": [
       "<Figure size 720x360 with 1 Axes>"
      ]
     },
     "metadata": {
      "needs_background": "light"
     },
     "output_type": "display_data"
    }
   ],
   "source": [
    "# plot nTimeStamp for AC_POWER\n",
    "fig = plt.figure(figsize=(10,5))\n",
    "ax = fig.add_subplot(111)\n",
    "ax.bar(datasetGD1['date'], datasetGD1['AC_POWER'], color= 'purple')\n",
    "\n",
    "plt.xticks(rotation='vertical')\n",
    "ax.set_xlabel('Date')\n",
    "ax.set_ylabel('AC_POWER')\n",
    "\n"
   ]
  },
  {
   "cell_type": "code",
   "execution_count": 33,
   "metadata": {},
   "outputs": [
    {
     "data": {
      "text/plain": [
       "Text(0, 0.5, 'DAILY_YIELD')"
      ]
     },
     "execution_count": 33,
     "metadata": {},
     "output_type": "execute_result"
    },
    {
     "data": {
      "image/png": "[encoded data removed]",
      "text/plain": [
       "<Figure size 720x360 with 1 Axes>"
      ]
     },
     "metadata": {
      "needs_background": "light"
     },
     "output_type": "display_data"
    }
   ],
   "source": [
    "# plot nTimeStamp for DAILY_YIELD\n",
    "fig = plt.figure(figsize=(10,5))\n",
    "ax = fig.add_subplot(111)\n",
    "ax.bar(datasetGD1['date'], datasetGD1['DAILY_YIELD'], color= 'blue')\n",
    "\n",
    "plt.xticks(rotation='vertical')\n",
    "ax.set_xlabel('Date')\n",
    "ax.set_ylabel('DAILY_YIELD')\n",
    "\n"
   ]
  },
  {
   "cell_type": "code",
   "execution_count": 34,
   "metadata": {},
   "outputs": [
    {
     "data": {
      "text/plain": [
       "Text(0, 0.5, 'TOTAL_YIELD')"
      ]
     },
     "execution_count": 34,
     "metadata": {},
     "output_type": "execute_result"
    },
    {
     "data": {
      "image/png": "[encoded data removed]",
      "text/plain": [
       "<Figure size 720x360 with 1 Axes>"
      ]
     },
     "metadata": {
      "needs_background": "light"
     },
     "output_type": "display_data"
    }
   ],
   "source": [
    "# plot nTimeStamp for TOTAL_YIELD\n",
    "fig = plt.figure(figsize=(10,5))\n",
    "ax = fig.add_subplot(111)\n",
    "ax.bar(datasetGD1['date'], datasetGD1['TOTAL_YIELD'], color= '#ff7f00')\n",
    "\n",
    "plt.xticks(rotation='vertical')\n",
    "ax.set_xlabel('Date')\n",
    "ax.set_ylabel('TOTAL_YIELD')\n",
    "\n"
   ]
  },
  {
   "cell_type": "code",
   "execution_count": 49,
   "metadata": {},
   "outputs": [
    {
     "data": {
      "text/plain": [
       "0       2020-05-15\n",
       "1       2020-05-15\n",
       "2       2020-05-15\n",
       "3       2020-05-15\n",
       "4       2020-05-15\n",
       "           ...    \n",
       "68773   2020-06-17\n",
       "68774   2020-06-17\n",
       "68775   2020-06-17\n",
       "68776   2020-06-17\n",
       "68777   2020-06-17\n",
       "Name: date, Length: 68778, dtype: datetime64[ns]"
      ]
     },
     "execution_count": 49,
     "metadata": {},
     "output_type": "execute_result"
    }
   ],
   "source": [
    "datasetGD1['date'] = np.array(datasetGD1['date'])\n",
    "datasetGD1['date']"
   ]
  },
  {
   "cell_type": "code",
   "execution_count": 84,
   "metadata": {},
   "outputs": [
    {
     "name": "stderr",
     "output_type": "stream",
     "text": [
      "<ipython-input-84-d400a5128210>:17: UserWarning: FixedFormatter should only be used together with FixedLocator\n",
      "  ax.set_xticklabels(datasetGD1['date'])\n"
     ]
    },
    {
     "data": {
      "image/png": "[encoded data removed]",
      "text/plain": [
       "<Figure size 1440x720 with 1 Axes>"
      ]
     },
     "metadata": {
      "needs_background": "light"
     },
     "output_type": "display_data"
    }
   ],
   "source": [
    "x = np.arange(len(datasetGD1['date']))  # the label locations\n",
    "width = 0.35  # the width of the bars\n",
    "\n",
    "\n",
    "fig, ax = plt.subplots(figsize=(20, 10))\n",
    "rects1 = ax.bar(x - width/2, datasetGD1['AC_POWER'], width, label='AC')\n",
    "rects2 = ax.bar(x + width/2, datasetGD1['DC_POWER'], width, label='DC')\n",
    "\n",
    "# Add some text for labels, title and custom x-axis tick labels, etc.\n",
    "ax.set_title('Powers by group of AC & DC')\n",
    "ax.set_xlabel('Date')\n",
    "ax.set_ylabel('Ac & DC power')\n",
    "plt.xticks(rotation='vertical')\n",
    "\n",
    "\n",
    "#ax.set_xticks(x)\n",
    "ax.set_xticklabels(datasetGD1['date'])\n",
    "ax.legend()\n",
    "\n",
    "\n",
    "fig.tight_layout()\n",
    "plt.xticks(rotation='vertical')\n",
    "plt.show()"
   ]
  },
  {
   "cell_type": "code",
   "execution_count": null,
   "metadata": {},
   "outputs": [],
   "source": []
  }
 ],
 "metadata": {
  "kernelspec": {
   "display_name": "Python 3",
   "language": "python",
   "name": "python3"
  },
  "language_info": {
   "codemirror_mode": {
    "name": "ipython",
    "version": 3
   },
   "file_extension": ".py",
   "mimetype": "text/x-python",
   "name": "python",
   "nbconvert_exporter": "python",
   "pygments_lexer": "ipython3",
   "version": "3.8.5"
  }
 },
 "nbformat": 4,
 "nbformat_minor": 2
}
