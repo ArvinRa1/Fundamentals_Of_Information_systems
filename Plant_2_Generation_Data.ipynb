{
 "cells": [
  {
   "cell_type": "code",
   "execution_count": 2,
   "metadata": {},
   "outputs": [],
   "source": [
    "# Importing Libraries\n",
    "import pandas as pd  \n",
    "import numpy as np  \n",
    "import matplotlib.pyplot as plt  \n",
    "import seaborn as seabornInstance \n",
    "from sklearn.model_selection import train_test_split \n",
    "from sklearn.linear_model import LinearRegression\n",
    "from sklearn import metrics"
   ]
  },
  {
   "cell_type": "code",
   "execution_count": 3,
   "metadata": {},
   "outputs": [
    {
     "name": "stdout",
     "output_type": "stream",
     "text": [
      "(67698, 7)\n"
     ]
    },
    {
     "data": {
      "text/html": [
       "<div>\n",
       "<style scoped>\n",
       "    .dataframe tbody tr th:only-of-type {\n",
       "        vertical-align: middle;\n",
       "    }\n",
       "\n",
       "    .dataframe tbody tr th {\n",
       "        vertical-align: top;\n",
       "    }\n",
       "\n",
       "    .dataframe thead th {\n",
       "        text-align: right;\n",
       "    }\n",
       "</style>\n",
       "<table border=\"1\" class=\"dataframe\">\n",
       "  <thead>\n",
       "    <tr style=\"text-align: right;\">\n",
       "      <th></th>\n",
       "      <th>PLANT_ID</th>\n",
       "      <th>DC_POWER</th>\n",
       "      <th>AC_POWER</th>\n",
       "      <th>DAILY_YIELD</th>\n",
       "      <th>TOTAL_YIELD</th>\n",
       "    </tr>\n",
       "  </thead>\n",
       "  <tbody>\n",
       "    <tr>\n",
       "      <th>count</th>\n",
       "      <td>67698.0</td>\n",
       "      <td>67698.000000</td>\n",
       "      <td>67698.000000</td>\n",
       "      <td>67698.000000</td>\n",
       "      <td>6.769800e+04</td>\n",
       "    </tr>\n",
       "    <tr>\n",
       "      <th>mean</th>\n",
       "      <td>4136001.0</td>\n",
       "      <td>246.701961</td>\n",
       "      <td>241.277825</td>\n",
       "      <td>3294.890295</td>\n",
       "      <td>6.589448e+08</td>\n",
       "    </tr>\n",
       "    <tr>\n",
       "      <th>std</th>\n",
       "      <td>0.0</td>\n",
       "      <td>370.569597</td>\n",
       "      <td>362.112118</td>\n",
       "      <td>2919.448386</td>\n",
       "      <td>7.296678e+08</td>\n",
       "    </tr>\n",
       "    <tr>\n",
       "      <th>min</th>\n",
       "      <td>4136001.0</td>\n",
       "      <td>0.000000</td>\n",
       "      <td>0.000000</td>\n",
       "      <td>0.000000</td>\n",
       "      <td>0.000000e+00</td>\n",
       "    </tr>\n",
       "    <tr>\n",
       "      <th>25%</th>\n",
       "      <td>4136001.0</td>\n",
       "      <td>0.000000</td>\n",
       "      <td>0.000000</td>\n",
       "      <td>272.750000</td>\n",
       "      <td>1.996494e+07</td>\n",
       "    </tr>\n",
       "    <tr>\n",
       "      <th>50%</th>\n",
       "      <td>4136001.0</td>\n",
       "      <td>0.000000</td>\n",
       "      <td>0.000000</td>\n",
       "      <td>2911.000000</td>\n",
       "      <td>2.826276e+08</td>\n",
       "    </tr>\n",
       "    <tr>\n",
       "      <th>75%</th>\n",
       "      <td>4136001.0</td>\n",
       "      <td>446.591667</td>\n",
       "      <td>438.215000</td>\n",
       "      <td>5534.000000</td>\n",
       "      <td>1.348495e+09</td>\n",
       "    </tr>\n",
       "    <tr>\n",
       "      <th>max</th>\n",
       "      <td>4136001.0</td>\n",
       "      <td>1420.933333</td>\n",
       "      <td>1385.420000</td>\n",
       "      <td>9873.000000</td>\n",
       "      <td>2.247916e+09</td>\n",
       "    </tr>\n",
       "  </tbody>\n",
       "</table>\n",
       "</div>"
      ],
      "text/plain": [
       "        PLANT_ID      DC_POWER      AC_POWER   DAILY_YIELD   TOTAL_YIELD\n",
       "count    67698.0  67698.000000  67698.000000  67698.000000  6.769800e+04\n",
       "mean   4136001.0    246.701961    241.277825   3294.890295  6.589448e+08\n",
       "std          0.0    370.569597    362.112118   2919.448386  7.296678e+08\n",
       "min    4136001.0      0.000000      0.000000      0.000000  0.000000e+00\n",
       "25%    4136001.0      0.000000      0.000000    272.750000  1.996494e+07\n",
       "50%    4136001.0      0.000000      0.000000   2911.000000  2.826276e+08\n",
       "75%    4136001.0    446.591667    438.215000   5534.000000  1.348495e+09\n",
       "max    4136001.0   1420.933333   1385.420000   9873.000000  2.247916e+09"
      ]
     },
     "execution_count": 3,
     "metadata": {},
     "output_type": "execute_result"
    }
   ],
   "source": [
    "# Reading the dataset\n",
    "datasetGD2 = pd.read_csv('./Solar_Power/Plant_2_Generation_Data.csv')\n",
    "\n",
    "# See the shape of the dataset\n",
    "print(datasetGD2.shape)\n",
    "\n",
    "\n",
    "# Some statitistics of the dataset\n",
    "datasetGD2.describe()\n"
   ]
  },
  {
   "cell_type": "code",
   "execution_count": 4,
   "metadata": {},
   "outputs": [
    {
     "name": "stdout",
     "output_type": "stream",
     "text": [
      "<class 'pandas.core.frame.DataFrame'>\n",
      "RangeIndex: 67698 entries, 0 to 67697\n",
      "Data columns (total 7 columns):\n",
      " #   Column       Non-Null Count  Dtype  \n",
      "---  ------       --------------  -----  \n",
      " 0   DATE_TIME    67698 non-null  object \n",
      " 1   PLANT_ID     67698 non-null  int64  \n",
      " 2   SOURCE_KEY   67698 non-null  object \n",
      " 3   DC_POWER     67698 non-null  float64\n",
      " 4   AC_POWER     67698 non-null  float64\n",
      " 5   DAILY_YIELD  67698 non-null  float64\n",
      " 6   TOTAL_YIELD  67698 non-null  float64\n",
      "dtypes: float64(4), int64(1), object(2)\n",
      "memory usage: 3.6+ MB\n"
     ]
    }
   ],
   "source": [
    "datasetGD2.info()"
   ]
  },
  {
   "cell_type": "code",
   "execution_count": 5,
   "metadata": {},
   "outputs": [
    {
     "data": {
      "text/html": [
       "<div>\n",
       "<style scoped>\n",
       "    .dataframe tbody tr th:only-of-type {\n",
       "        vertical-align: middle;\n",
       "    }\n",
       "\n",
       "    .dataframe tbody tr th {\n",
       "        vertical-align: top;\n",
       "    }\n",
       "\n",
       "    .dataframe thead th {\n",
       "        text-align: right;\n",
       "    }\n",
       "</style>\n",
       "<table border=\"1\" class=\"dataframe\">\n",
       "  <thead>\n",
       "    <tr style=\"text-align: right;\">\n",
       "      <th></th>\n",
       "      <th>DATE_TIME</th>\n",
       "      <th>PLANT_ID</th>\n",
       "      <th>SOURCE_KEY</th>\n",
       "      <th>DC_POWER</th>\n",
       "      <th>AC_POWER</th>\n",
       "      <th>DAILY_YIELD</th>\n",
       "      <th>TOTAL_YIELD</th>\n",
       "    </tr>\n",
       "  </thead>\n",
       "  <tbody>\n",
       "    <tr>\n",
       "      <th>0</th>\n",
       "      <td>2020-05-15 00:00:00</td>\n",
       "      <td>4136001</td>\n",
       "      <td>4UPUqMRk7TRMgml</td>\n",
       "      <td>0.0</td>\n",
       "      <td>0.0</td>\n",
       "      <td>9425.000000</td>\n",
       "      <td>2.429011e+06</td>\n",
       "    </tr>\n",
       "    <tr>\n",
       "      <th>1</th>\n",
       "      <td>2020-05-15 00:00:00</td>\n",
       "      <td>4136001</td>\n",
       "      <td>81aHJ1q11NBPMrL</td>\n",
       "      <td>0.0</td>\n",
       "      <td>0.0</td>\n",
       "      <td>0.000000</td>\n",
       "      <td>1.215279e+09</td>\n",
       "    </tr>\n",
       "    <tr>\n",
       "      <th>2</th>\n",
       "      <td>2020-05-15 00:00:00</td>\n",
       "      <td>4136001</td>\n",
       "      <td>9kRcWv60rDACzjR</td>\n",
       "      <td>0.0</td>\n",
       "      <td>0.0</td>\n",
       "      <td>3075.333333</td>\n",
       "      <td>2.247720e+09</td>\n",
       "    </tr>\n",
       "    <tr>\n",
       "      <th>3</th>\n",
       "      <td>2020-05-15 00:00:00</td>\n",
       "      <td>4136001</td>\n",
       "      <td>Et9kgGMDl729KT4</td>\n",
       "      <td>0.0</td>\n",
       "      <td>0.0</td>\n",
       "      <td>269.933333</td>\n",
       "      <td>1.704250e+06</td>\n",
       "    </tr>\n",
       "    <tr>\n",
       "      <th>4</th>\n",
       "      <td>2020-05-15 00:00:00</td>\n",
       "      <td>4136001</td>\n",
       "      <td>IQ2d7wF4YD8zU1Q</td>\n",
       "      <td>0.0</td>\n",
       "      <td>0.0</td>\n",
       "      <td>3177.000000</td>\n",
       "      <td>1.994153e+07</td>\n",
       "    </tr>\n",
       "    <tr>\n",
       "      <th>...</th>\n",
       "      <td>...</td>\n",
       "      <td>...</td>\n",
       "      <td>...</td>\n",
       "      <td>...</td>\n",
       "      <td>...</td>\n",
       "      <td>...</td>\n",
       "      <td>...</td>\n",
       "    </tr>\n",
       "    <tr>\n",
       "      <th>67693</th>\n",
       "      <td>2020-06-17 23:45:00</td>\n",
       "      <td>4136001</td>\n",
       "      <td>q49J1IKaHRwDQnt</td>\n",
       "      <td>0.0</td>\n",
       "      <td>0.0</td>\n",
       "      <td>4157.000000</td>\n",
       "      <td>5.207580e+05</td>\n",
       "    </tr>\n",
       "    <tr>\n",
       "      <th>67694</th>\n",
       "      <td>2020-06-17 23:45:00</td>\n",
       "      <td>4136001</td>\n",
       "      <td>rrq4fwE8jgrTyWY</td>\n",
       "      <td>0.0</td>\n",
       "      <td>0.0</td>\n",
       "      <td>3931.000000</td>\n",
       "      <td>1.211314e+08</td>\n",
       "    </tr>\n",
       "    <tr>\n",
       "      <th>67695</th>\n",
       "      <td>2020-06-17 23:45:00</td>\n",
       "      <td>4136001</td>\n",
       "      <td>vOuJvMaM2sgwLmb</td>\n",
       "      <td>0.0</td>\n",
       "      <td>0.0</td>\n",
       "      <td>4322.000000</td>\n",
       "      <td>2.427691e+06</td>\n",
       "    </tr>\n",
       "    <tr>\n",
       "      <th>67696</th>\n",
       "      <td>2020-06-17 23:45:00</td>\n",
       "      <td>4136001</td>\n",
       "      <td>xMbIugepa2P7lBB</td>\n",
       "      <td>0.0</td>\n",
       "      <td>0.0</td>\n",
       "      <td>4218.000000</td>\n",
       "      <td>1.068964e+08</td>\n",
       "    </tr>\n",
       "    <tr>\n",
       "      <th>67697</th>\n",
       "      <td>2020-06-17 23:45:00</td>\n",
       "      <td>4136001</td>\n",
       "      <td>xoJJ8DcxJEcupym</td>\n",
       "      <td>0.0</td>\n",
       "      <td>0.0</td>\n",
       "      <td>4316.000000</td>\n",
       "      <td>2.093357e+08</td>\n",
       "    </tr>\n",
       "  </tbody>\n",
       "</table>\n",
       "<p>67698 rows × 7 columns</p>\n",
       "</div>"
      ],
      "text/plain": [
       "                 DATE_TIME  PLANT_ID       SOURCE_KEY  DC_POWER  AC_POWER  \\\n",
       "0      2020-05-15 00:00:00   4136001  4UPUqMRk7TRMgml       0.0       0.0   \n",
       "1      2020-05-15 00:00:00   4136001  81aHJ1q11NBPMrL       0.0       0.0   \n",
       "2      2020-05-15 00:00:00   4136001  9kRcWv60rDACzjR       0.0       0.0   \n",
       "3      2020-05-15 00:00:00   4136001  Et9kgGMDl729KT4       0.0       0.0   \n",
       "4      2020-05-15 00:00:00   4136001  IQ2d7wF4YD8zU1Q       0.0       0.0   \n",
       "...                    ...       ...              ...       ...       ...   \n",
       "67693  2020-06-17 23:45:00   4136001  q49J1IKaHRwDQnt       0.0       0.0   \n",
       "67694  2020-06-17 23:45:00   4136001  rrq4fwE8jgrTyWY       0.0       0.0   \n",
       "67695  2020-06-17 23:45:00   4136001  vOuJvMaM2sgwLmb       0.0       0.0   \n",
       "67696  2020-06-17 23:45:00   4136001  xMbIugepa2P7lBB       0.0       0.0   \n",
       "67697  2020-06-17 23:45:00   4136001  xoJJ8DcxJEcupym       0.0       0.0   \n",
       "\n",
       "       DAILY_YIELD   TOTAL_YIELD  \n",
       "0      9425.000000  2.429011e+06  \n",
       "1         0.000000  1.215279e+09  \n",
       "2      3075.333333  2.247720e+09  \n",
       "3       269.933333  1.704250e+06  \n",
       "4      3177.000000  1.994153e+07  \n",
       "...            ...           ...  \n",
       "67693  4157.000000  5.207580e+05  \n",
       "67694  3931.000000  1.211314e+08  \n",
       "67695  4322.000000  2.427691e+06  \n",
       "67696  4218.000000  1.068964e+08  \n",
       "67697  4316.000000  2.093357e+08  \n",
       "\n",
       "[67698 rows x 7 columns]"
      ]
     },
     "execution_count": 5,
     "metadata": {},
     "output_type": "execute_result"
    }
   ],
   "source": [
    "datasetGD2"
   ]
  },
  {
   "cell_type": "code",
   "execution_count": 6,
   "metadata": {},
   "outputs": [
    {
     "data": {
      "text/html": [
       "<div>\n",
       "<style scoped>\n",
       "    .dataframe tbody tr th:only-of-type {\n",
       "        vertical-align: middle;\n",
       "    }\n",
       "\n",
       "    .dataframe tbody tr th {\n",
       "        vertical-align: top;\n",
       "    }\n",
       "\n",
       "    .dataframe thead th {\n",
       "        text-align: right;\n",
       "    }\n",
       "</style>\n",
       "<table border=\"1\" class=\"dataframe\">\n",
       "  <thead>\n",
       "    <tr style=\"text-align: right;\">\n",
       "      <th></th>\n",
       "      <th>DATE_TIME</th>\n",
       "      <th>PLANT_ID</th>\n",
       "      <th>SOURCE_KEY</th>\n",
       "      <th>DC_POWER</th>\n",
       "      <th>AC_POWER</th>\n",
       "      <th>DAILY_YIELD</th>\n",
       "      <th>TOTAL_YIELD</th>\n",
       "    </tr>\n",
       "  </thead>\n",
       "  <tbody>\n",
       "    <tr>\n",
       "      <th>0</th>\n",
       "      <td>2020-05-15 00:00:00</td>\n",
       "      <td>4136001</td>\n",
       "      <td>4UPUqMRk7TRMgml</td>\n",
       "      <td>0.0</td>\n",
       "      <td>0.0</td>\n",
       "      <td>9425.000000</td>\n",
       "      <td>2.429011e+06</td>\n",
       "    </tr>\n",
       "    <tr>\n",
       "      <th>1</th>\n",
       "      <td>2020-05-15 00:00:00</td>\n",
       "      <td>4136001</td>\n",
       "      <td>81aHJ1q11NBPMrL</td>\n",
       "      <td>0.0</td>\n",
       "      <td>0.0</td>\n",
       "      <td>0.000000</td>\n",
       "      <td>1.215279e+09</td>\n",
       "    </tr>\n",
       "    <tr>\n",
       "      <th>2</th>\n",
       "      <td>2020-05-15 00:00:00</td>\n",
       "      <td>4136001</td>\n",
       "      <td>9kRcWv60rDACzjR</td>\n",
       "      <td>0.0</td>\n",
       "      <td>0.0</td>\n",
       "      <td>3075.333333</td>\n",
       "      <td>2.247720e+09</td>\n",
       "    </tr>\n",
       "    <tr>\n",
       "      <th>3</th>\n",
       "      <td>2020-05-15 00:00:00</td>\n",
       "      <td>4136001</td>\n",
       "      <td>Et9kgGMDl729KT4</td>\n",
       "      <td>0.0</td>\n",
       "      <td>0.0</td>\n",
       "      <td>269.933333</td>\n",
       "      <td>1.704250e+06</td>\n",
       "    </tr>\n",
       "    <tr>\n",
       "      <th>4</th>\n",
       "      <td>2020-05-15 00:00:00</td>\n",
       "      <td>4136001</td>\n",
       "      <td>IQ2d7wF4YD8zU1Q</td>\n",
       "      <td>0.0</td>\n",
       "      <td>0.0</td>\n",
       "      <td>3177.000000</td>\n",
       "      <td>1.994153e+07</td>\n",
       "    </tr>\n",
       "    <tr>\n",
       "      <th>...</th>\n",
       "      <td>...</td>\n",
       "      <td>...</td>\n",
       "      <td>...</td>\n",
       "      <td>...</td>\n",
       "      <td>...</td>\n",
       "      <td>...</td>\n",
       "      <td>...</td>\n",
       "    </tr>\n",
       "    <tr>\n",
       "      <th>60</th>\n",
       "      <td>2020-05-15 00:30:00</td>\n",
       "      <td>4136001</td>\n",
       "      <td>oZZkBaNadn6DNKz</td>\n",
       "      <td>0.0</td>\n",
       "      <td>0.0</td>\n",
       "      <td>0.000000</td>\n",
       "      <td>1.708083e+09</td>\n",
       "    </tr>\n",
       "    <tr>\n",
       "      <th>61</th>\n",
       "      <td>2020-05-15 00:30:00</td>\n",
       "      <td>4136001</td>\n",
       "      <td>q49J1IKaHRwDQnt</td>\n",
       "      <td>0.0</td>\n",
       "      <td>0.0</td>\n",
       "      <td>4315.000000</td>\n",
       "      <td>3.399230e+05</td>\n",
       "    </tr>\n",
       "    <tr>\n",
       "      <th>62</th>\n",
       "      <td>2020-05-15 00:30:00</td>\n",
       "      <td>4136001</td>\n",
       "      <td>rrq4fwE8jgrTyWY</td>\n",
       "      <td>0.0</td>\n",
       "      <td>0.0</td>\n",
       "      <td>0.000000</td>\n",
       "      <td>1.209641e+08</td>\n",
       "    </tr>\n",
       "    <tr>\n",
       "      <th>63</th>\n",
       "      <td>2020-05-15 00:30:00</td>\n",
       "      <td>4136001</td>\n",
       "      <td>vOuJvMaM2sgwLmb</td>\n",
       "      <td>0.0</td>\n",
       "      <td>0.0</td>\n",
       "      <td>0.000000</td>\n",
       "      <td>2.211962e+06</td>\n",
       "    </tr>\n",
       "    <tr>\n",
       "      <th>64</th>\n",
       "      <td>2020-05-15 00:30:00</td>\n",
       "      <td>4136001</td>\n",
       "      <td>xMbIugepa2P7lBB</td>\n",
       "      <td>0.0</td>\n",
       "      <td>0.0</td>\n",
       "      <td>9166.000000</td>\n",
       "      <td>1.066566e+08</td>\n",
       "    </tr>\n",
       "  </tbody>\n",
       "</table>\n",
       "<p>65 rows × 7 columns</p>\n",
       "</div>"
      ],
      "text/plain": [
       "              DATE_TIME  PLANT_ID       SOURCE_KEY  DC_POWER  AC_POWER  \\\n",
       "0   2020-05-15 00:00:00   4136001  4UPUqMRk7TRMgml       0.0       0.0   \n",
       "1   2020-05-15 00:00:00   4136001  81aHJ1q11NBPMrL       0.0       0.0   \n",
       "2   2020-05-15 00:00:00   4136001  9kRcWv60rDACzjR       0.0       0.0   \n",
       "3   2020-05-15 00:00:00   4136001  Et9kgGMDl729KT4       0.0       0.0   \n",
       "4   2020-05-15 00:00:00   4136001  IQ2d7wF4YD8zU1Q       0.0       0.0   \n",
       "..                  ...       ...              ...       ...       ...   \n",
       "60  2020-05-15 00:30:00   4136001  oZZkBaNadn6DNKz       0.0       0.0   \n",
       "61  2020-05-15 00:30:00   4136001  q49J1IKaHRwDQnt       0.0       0.0   \n",
       "62  2020-05-15 00:30:00   4136001  rrq4fwE8jgrTyWY       0.0       0.0   \n",
       "63  2020-05-15 00:30:00   4136001  vOuJvMaM2sgwLmb       0.0       0.0   \n",
       "64  2020-05-15 00:30:00   4136001  xMbIugepa2P7lBB       0.0       0.0   \n",
       "\n",
       "    DAILY_YIELD   TOTAL_YIELD  \n",
       "0   9425.000000  2.429011e+06  \n",
       "1      0.000000  1.215279e+09  \n",
       "2   3075.333333  2.247720e+09  \n",
       "3    269.933333  1.704250e+06  \n",
       "4   3177.000000  1.994153e+07  \n",
       "..          ...           ...  \n",
       "60     0.000000  1.708083e+09  \n",
       "61  4315.000000  3.399230e+05  \n",
       "62     0.000000  1.209641e+08  \n",
       "63     0.000000  2.211962e+06  \n",
       "64  9166.000000  1.066566e+08  \n",
       "\n",
       "[65 rows x 7 columns]"
      ]
     },
     "execution_count": 6,
     "metadata": {},
     "output_type": "execute_result"
    }
   ],
   "source": [
    "datasetGD2.head(65)"
   ]
  },
  {
   "cell_type": "code",
   "execution_count": 14,
   "metadata": {},
   "outputs": [
    {
     "data": {
      "text/html": [
       "<div>\n",
       "<style scoped>\n",
       "    .dataframe tbody tr th:only-of-type {\n",
       "        vertical-align: middle;\n",
       "    }\n",
       "\n",
       "    .dataframe tbody tr th {\n",
       "        vertical-align: top;\n",
       "    }\n",
       "\n",
       "    .dataframe thead th {\n",
       "        text-align: right;\n",
       "    }\n",
       "</style>\n",
       "<table border=\"1\" class=\"dataframe\">\n",
       "  <thead>\n",
       "    <tr style=\"text-align: right;\">\n",
       "      <th></th>\n",
       "      <th>DATE_TIME</th>\n",
       "      <th>PLANT_ID</th>\n",
       "      <th>SOURCE_KEY</th>\n",
       "      <th>DC_POWER</th>\n",
       "      <th>AC_POWER</th>\n",
       "      <th>DAILY_YIELD</th>\n",
       "      <th>TOTAL_YIELD</th>\n",
       "      <th>date</th>\n",
       "    </tr>\n",
       "  </thead>\n",
       "  <tbody>\n",
       "    <tr>\n",
       "      <th>0</th>\n",
       "      <td>2020-05-15 00:00:00</td>\n",
       "      <td>4136001</td>\n",
       "      <td>4UPUqMRk7TRMgml</td>\n",
       "      <td>0.0</td>\n",
       "      <td>0.0</td>\n",
       "      <td>9425.000000</td>\n",
       "      <td>2.429011e+06</td>\n",
       "      <td>2020-05-15</td>\n",
       "    </tr>\n",
       "    <tr>\n",
       "      <th>1</th>\n",
       "      <td>2020-05-15 00:00:00</td>\n",
       "      <td>4136001</td>\n",
       "      <td>81aHJ1q11NBPMrL</td>\n",
       "      <td>0.0</td>\n",
       "      <td>0.0</td>\n",
       "      <td>0.000000</td>\n",
       "      <td>1.215279e+09</td>\n",
       "      <td>2020-05-15</td>\n",
       "    </tr>\n",
       "    <tr>\n",
       "      <th>2</th>\n",
       "      <td>2020-05-15 00:00:00</td>\n",
       "      <td>4136001</td>\n",
       "      <td>9kRcWv60rDACzjR</td>\n",
       "      <td>0.0</td>\n",
       "      <td>0.0</td>\n",
       "      <td>3075.333333</td>\n",
       "      <td>2.247720e+09</td>\n",
       "      <td>2020-05-15</td>\n",
       "    </tr>\n",
       "    <tr>\n",
       "      <th>3</th>\n",
       "      <td>2020-05-15 00:00:00</td>\n",
       "      <td>4136001</td>\n",
       "      <td>Et9kgGMDl729KT4</td>\n",
       "      <td>0.0</td>\n",
       "      <td>0.0</td>\n",
       "      <td>269.933333</td>\n",
       "      <td>1.704250e+06</td>\n",
       "      <td>2020-05-15</td>\n",
       "    </tr>\n",
       "    <tr>\n",
       "      <th>4</th>\n",
       "      <td>2020-05-15 00:00:00</td>\n",
       "      <td>4136001</td>\n",
       "      <td>IQ2d7wF4YD8zU1Q</td>\n",
       "      <td>0.0</td>\n",
       "      <td>0.0</td>\n",
       "      <td>3177.000000</td>\n",
       "      <td>1.994153e+07</td>\n",
       "      <td>2020-05-15</td>\n",
       "    </tr>\n",
       "  </tbody>\n",
       "</table>\n",
       "</div>"
      ],
      "text/plain": [
       "             DATE_TIME  PLANT_ID       SOURCE_KEY  DC_POWER  AC_POWER  \\\n",
       "0  2020-05-15 00:00:00   4136001  4UPUqMRk7TRMgml       0.0       0.0   \n",
       "1  2020-05-15 00:00:00   4136001  81aHJ1q11NBPMrL       0.0       0.0   \n",
       "2  2020-05-15 00:00:00   4136001  9kRcWv60rDACzjR       0.0       0.0   \n",
       "3  2020-05-15 00:00:00   4136001  Et9kgGMDl729KT4       0.0       0.0   \n",
       "4  2020-05-15 00:00:00   4136001  IQ2d7wF4YD8zU1Q       0.0       0.0   \n",
       "\n",
       "   DAILY_YIELD   TOTAL_YIELD       date  \n",
       "0  9425.000000  2.429011e+06 2020-05-15  \n",
       "1     0.000000  1.215279e+09 2020-05-15  \n",
       "2  3075.333333  2.247720e+09 2020-05-15  \n",
       "3   269.933333  1.704250e+06 2020-05-15  \n",
       "4  3177.000000  1.994153e+07 2020-05-15  "
      ]
     },
     "execution_count": 14,
     "metadata": {},
     "output_type": "execute_result"
    }
   ],
   "source": [
    "datasetGD2.head()"
   ]
  },
  {
   "cell_type": "code",
   "execution_count": 15,
   "metadata": {},
   "outputs": [],
   "source": [
    "# adding another column for only date (without time)\n",
    "datasetGD2['date'] = pd.to_datetime(datasetGD2['DATE_TIME']).dt.normalize()"
   ]
  },
  {
   "cell_type": "code",
   "execution_count": 16,
   "metadata": {},
   "outputs": [
    {
     "data": {
      "text/html": [
       "<div>\n",
       "<style scoped>\n",
       "    .dataframe tbody tr th:only-of-type {\n",
       "        vertical-align: middle;\n",
       "    }\n",
       "\n",
       "    .dataframe tbody tr th {\n",
       "        vertical-align: top;\n",
       "    }\n",
       "\n",
       "    .dataframe thead th {\n",
       "        text-align: right;\n",
       "    }\n",
       "</style>\n",
       "<table border=\"1\" class=\"dataframe\">\n",
       "  <thead>\n",
       "    <tr style=\"text-align: right;\">\n",
       "      <th></th>\n",
       "      <th>DATE_TIME</th>\n",
       "      <th>PLANT_ID</th>\n",
       "      <th>SOURCE_KEY</th>\n",
       "      <th>DC_POWER</th>\n",
       "      <th>AC_POWER</th>\n",
       "      <th>DAILY_YIELD</th>\n",
       "      <th>TOTAL_YIELD</th>\n",
       "      <th>date</th>\n",
       "    </tr>\n",
       "  </thead>\n",
       "  <tbody>\n",
       "    <tr>\n",
       "      <th>0</th>\n",
       "      <td>2020-05-15 00:00:00</td>\n",
       "      <td>4136001</td>\n",
       "      <td>4UPUqMRk7TRMgml</td>\n",
       "      <td>0.0</td>\n",
       "      <td>0.0</td>\n",
       "      <td>9425.000000</td>\n",
       "      <td>2.429011e+06</td>\n",
       "      <td>2020-05-15</td>\n",
       "    </tr>\n",
       "    <tr>\n",
       "      <th>1</th>\n",
       "      <td>2020-05-15 00:00:00</td>\n",
       "      <td>4136001</td>\n",
       "      <td>81aHJ1q11NBPMrL</td>\n",
       "      <td>0.0</td>\n",
       "      <td>0.0</td>\n",
       "      <td>0.000000</td>\n",
       "      <td>1.215279e+09</td>\n",
       "      <td>2020-05-15</td>\n",
       "    </tr>\n",
       "    <tr>\n",
       "      <th>2</th>\n",
       "      <td>2020-05-15 00:00:00</td>\n",
       "      <td>4136001</td>\n",
       "      <td>9kRcWv60rDACzjR</td>\n",
       "      <td>0.0</td>\n",
       "      <td>0.0</td>\n",
       "      <td>3075.333333</td>\n",
       "      <td>2.247720e+09</td>\n",
       "      <td>2020-05-15</td>\n",
       "    </tr>\n",
       "    <tr>\n",
       "      <th>3</th>\n",
       "      <td>2020-05-15 00:00:00</td>\n",
       "      <td>4136001</td>\n",
       "      <td>Et9kgGMDl729KT4</td>\n",
       "      <td>0.0</td>\n",
       "      <td>0.0</td>\n",
       "      <td>269.933333</td>\n",
       "      <td>1.704250e+06</td>\n",
       "      <td>2020-05-15</td>\n",
       "    </tr>\n",
       "    <tr>\n",
       "      <th>4</th>\n",
       "      <td>2020-05-15 00:00:00</td>\n",
       "      <td>4136001</td>\n",
       "      <td>IQ2d7wF4YD8zU1Q</td>\n",
       "      <td>0.0</td>\n",
       "      <td>0.0</td>\n",
       "      <td>3177.000000</td>\n",
       "      <td>1.994153e+07</td>\n",
       "      <td>2020-05-15</td>\n",
       "    </tr>\n",
       "  </tbody>\n",
       "</table>\n",
       "</div>"
      ],
      "text/plain": [
       "             DATE_TIME  PLANT_ID       SOURCE_KEY  DC_POWER  AC_POWER  \\\n",
       "0  2020-05-15 00:00:00   4136001  4UPUqMRk7TRMgml       0.0       0.0   \n",
       "1  2020-05-15 00:00:00   4136001  81aHJ1q11NBPMrL       0.0       0.0   \n",
       "2  2020-05-15 00:00:00   4136001  9kRcWv60rDACzjR       0.0       0.0   \n",
       "3  2020-05-15 00:00:00   4136001  Et9kgGMDl729KT4       0.0       0.0   \n",
       "4  2020-05-15 00:00:00   4136001  IQ2d7wF4YD8zU1Q       0.0       0.0   \n",
       "\n",
       "   DAILY_YIELD   TOTAL_YIELD       date  \n",
       "0  9425.000000  2.429011e+06 2020-05-15  \n",
       "1     0.000000  1.215279e+09 2020-05-15  \n",
       "2  3075.333333  2.247720e+09 2020-05-15  \n",
       "3   269.933333  1.704250e+06 2020-05-15  \n",
       "4  3177.000000  1.994153e+07 2020-05-15  "
      ]
     },
     "execution_count": 16,
     "metadata": {},
     "output_type": "execute_result"
    }
   ],
   "source": [
    "datasetGD2.head()"
   ]
  },
  {
   "cell_type": "markdown",
   "metadata": {},
   "source": [
    "## What is the mean value of Daily Yield"
   ]
  },
  {
   "cell_type": "code",
   "execution_count": 17,
   "metadata": {},
   "outputs": [],
   "source": [
    "# What is the mean value of Daily Yield\n",
    "# group the rows based on \"date\" and take the sum from DAILY_YIELD column\n",
    "meanYIELD = datasetGD2.groupby([\"date\"]).DAILY_YIELD.mean().reset_index()"
   ]
  },
  {
   "cell_type": "code",
   "execution_count": 18,
   "metadata": {},
   "outputs": [
    {
     "data": {
      "text/html": [
       "<div>\n",
       "<style scoped>\n",
       "    .dataframe tbody tr th:only-of-type {\n",
       "        vertical-align: middle;\n",
       "    }\n",
       "\n",
       "    .dataframe tbody tr th {\n",
       "        vertical-align: top;\n",
       "    }\n",
       "\n",
       "    .dataframe thead th {\n",
       "        text-align: right;\n",
       "    }\n",
       "</style>\n",
       "<table border=\"1\" class=\"dataframe\">\n",
       "  <thead>\n",
       "    <tr style=\"text-align: right;\">\n",
       "      <th></th>\n",
       "      <th>date</th>\n",
       "      <th>DAILY_YIELD</th>\n",
       "    </tr>\n",
       "  </thead>\n",
       "  <tbody>\n",
       "    <tr>\n",
       "      <th>0</th>\n",
       "      <td>2020-05-15</td>\n",
       "      <td>3826.512932</td>\n",
       "    </tr>\n",
       "    <tr>\n",
       "      <th>1</th>\n",
       "      <td>2020-05-16</td>\n",
       "      <td>3425.500902</td>\n",
       "    </tr>\n",
       "    <tr>\n",
       "      <th>2</th>\n",
       "      <td>2020-05-17</td>\n",
       "      <td>3178.155912</td>\n",
       "    </tr>\n",
       "    <tr>\n",
       "      <th>3</th>\n",
       "      <td>2020-05-18</td>\n",
       "      <td>2963.582806</td>\n",
       "    </tr>\n",
       "    <tr>\n",
       "      <th>4</th>\n",
       "      <td>2020-05-19</td>\n",
       "      <td>2563.046769</td>\n",
       "    </tr>\n",
       "  </tbody>\n",
       "</table>\n",
       "</div>"
      ],
      "text/plain": [
       "        date  DAILY_YIELD\n",
       "0 2020-05-15  3826.512932\n",
       "1 2020-05-16  3425.500902\n",
       "2 2020-05-17  3178.155912\n",
       "3 2020-05-18  2963.582806\n",
       "4 2020-05-19  2563.046769"
      ]
     },
     "execution_count": 18,
     "metadata": {},
     "output_type": "execute_result"
    }
   ],
   "source": [
    "meanYIELD.head()"
   ]
  },
  {
   "cell_type": "code",
   "execution_count": 19,
   "metadata": {},
   "outputs": [
    {
     "name": "stdout",
     "output_type": "stream",
     "text": [
      "(34, 2)\n"
     ]
    }
   ],
   "source": [
    "# It should give exactly the number of days = 34\n",
    "print(meanYIELD.shape)"
   ]
  },
  {
   "cell_type": "code",
   "execution_count": 20,
   "metadata": {},
   "outputs": [
    {
     "data": {
      "text/plain": [
       "Text(0, 0.5, 'mean value of daily yield')"
      ]
     },
     "execution_count": 20,
     "metadata": {},
     "output_type": "execute_result"
    },
    {
     "data": {
      "image/png": "[encoded data removed]",
      "text/plain": [
       "<Figure size 720x360 with 1 Axes>"
      ]
     },
     "metadata": {
      "needs_background": "light"
     },
     "output_type": "display_data"
    }
   ],
   "source": [
    "# plot the date and mean value of daily yield\n",
    "plt.figure(figsize=(10,5))\n",
    "plt.plot(meanYIELD['date'], meanYIELD['DAILY_YIELD'], color= '#117733')\n",
    "\n",
    "plt.xticks(rotation='vertical')\n",
    "plt.xlabel('TimeStamp')\n",
    "plt.ylabel('mean value of daily yield')"
   ]
  },
  {
   "cell_type": "code",
   "execution_count": 21,
   "metadata": {},
   "outputs": [
    {
     "data": {
      "text/plain": [
       "Text(0, 0.5, 'mean value of daily yield')"
      ]
     },
     "execution_count": 21,
     "metadata": {},
     "output_type": "execute_result"
    },
    {
     "data": {
      "image/png": "[encoded data removed]",
      "text/plain": [
       "<Figure size 720x360 with 1 Axes>"
      ]
     },
     "metadata": {
      "needs_background": "light"
     },
     "output_type": "display_data"
    }
   ],
   "source": [
    "# plot the date and mean value of daily yield by using bar graph\n",
    "fig = plt.figure(figsize=(10,5))\n",
    "ax = fig.add_subplot(111)\n",
    "ax.bar(meanYIELD['date'], meanYIELD['DAILY_YIELD'], color= '#117733')\n",
    "\n",
    "plt.xticks(rotation='vertical')\n",
    "ax.set_xlabel('TimeStamp')\n",
    "ax.set_ylabel('mean value of daily yield')\n",
    "\n"
   ]
  },
  {
   "cell_type": "markdown",
   "metadata": {},
   "source": [
    "## How Many inverters are There for each plant"
   ]
  },
  {
   "cell_type": "code",
   "execution_count": 22,
   "metadata": {},
   "outputs": [
    {
     "name": "stdout",
     "output_type": "stream",
     "text": [
      "\n",
      " Number of inverters:  22\n",
      "\n",
      " Key of inverters: \n",
      "\n",
      " dict_keys(['4UPUqMRk7TRMgml', '81aHJ1q11NBPMrL', '9kRcWv60rDACzjR', 'Et9kgGMDl729KT4', 'IQ2d7wF4YD8zU1Q', 'LYwnQax7tkwH5Cb', 'LlT2YUhhzqhg5Sw', 'Mx2yZCDsyf6DPfv', 'NgDl19wMapZy17u', 'PeE6FRyGXUgsRhN', 'Qf4GUc1pJu5T6c6', 'Quc1TzYxW2pYoWX', 'V94E5Ben1TlhnDV', 'WcxssY2VbP4hApt', 'mqwcsP2rE7J0TFp', 'oZ35aAeoifZaQzV', 'oZZkBaNadn6DNKz', 'q49J1IKaHRwDQnt', 'rrq4fwE8jgrTyWY', 'vOuJvMaM2sgwLmb', 'xMbIugepa2P7lBB', 'xoJJ8DcxJEcupym'])\n"
     ]
    },
    {
     "data": {
      "text/plain": [
       "dict_values([3195, 3259, 3259, 3195, 2355, 3259, 3259, 3195, 2355, 3259, 3195, 3195, 3259, 3259, 2355, 3195, 3259, 3259, 3259, 3259, 2355, 3259])"
      ]
     },
     "execution_count": 22,
     "metadata": {},
     "output_type": "execute_result"
    }
   ],
   "source": [
    "# how many inverters are There for each plant\n",
    "from collections import Counter\n",
    "inverters_key = Counter(datasetGD2['SOURCE_KEY']).keys()\n",
    "# number of inverters\n",
    "print('\\n Number of inverters: ',len(inverters_key))\n",
    "\n",
    "print('\\n Key of inverters: \\n\\n', inverters_key) # finding unique elements in SOURCE_KEY which shows the inverters\n",
    "\n",
    "\n",
    "# total number of measurements from each inverter over the whole 34 days\n",
    "Counter(datasetGD2['SOURCE_KEY']).values() # finding frequency of elements in SOURCE_KEY"
   ]
  },
  {
   "cell_type": "markdown",
   "metadata": {},
   "source": [
    "# What is the Maximum and Minimum amount of DC & AC"
   ]
  },
  {
   "cell_type": "code",
   "execution_count": 23,
   "metadata": {},
   "outputs": [
    {
     "name": "stdout",
     "output_type": "stream",
     "text": [
      "\n",
      " Maximum amount of DC in each day:\n",
      "\n",
      " 666607.6309523798\n",
      "\n",
      " Minimum amount of DC in each day:\n",
      "\n",
      " 342752.85413919407\n",
      "\n",
      " Maximum amount of AC in each day:\n",
      "\n",
      " 651437.7366666669\n",
      "\n",
      " Minimum amount of AC in each day:\n",
      "\n",
      " 335847.8221611725\n"
     ]
    }
   ],
   "source": [
    "# What is the maximum and minimum amount of DC\n",
    "# group the rows based on date and make max of DC_POWER \n",
    "sumDCPower = datasetGD2.groupby([\"date\"]).DC_POWER.sum().reset_index()\n",
    "maxDCPower = sumDCPower['DC_POWER'].max()\n",
    "minDCPower = sumDCPower['DC_POWER'].min()\n",
    "print('\\n Maximum amount of DC in each day:\\n\\n',maxDCPower)\n",
    "print('\\n Minimum amount of DC in each day:\\n\\n',minDCPower)\n",
    "\n",
    "# What is the maximum and minimum amount of AC\n",
    "sumACPower = datasetGD2.groupby([\"date\"]).AC_POWER.sum().reset_index()\n",
    "maxACPower = sumACPower['AC_POWER'].max()\n",
    "minACPower = sumACPower['AC_POWER'].min()\n",
    "print('\\n Maximum amount of AC in each day:\\n\\n',maxACPower)\n",
    "print('\\n Minimum amount of AC in each day:\\n\\n',minACPower)\n"
   ]
  },
  {
   "cell_type": "markdown",
   "metadata": {},
   "source": [
    "# Which SOURCE_KEY has produced max DC_Power & Graph"
   ]
  },
  {
   "cell_type": "code",
   "execution_count": 24,
   "metadata": {},
   "outputs": [
    {
     "name": "stdout",
     "output_type": "stream",
     "text": [
      "         SOURCE_KEY       DC_POWER\n",
      "0   4UPUqMRk7TRMgml  887444.875348\n",
      "1   81aHJ1q11NBPMrL  752165.196310\n",
      "2   9kRcWv60rDACzjR  797324.213511\n",
      "3   Et9kgGMDl729KT4  601396.050982\n",
      "4   IQ2d7wF4YD8zU1Q  672411.639080\n",
      "5   LYwnQax7tkwH5Cb  639696.326687\n",
      "6   LlT2YUhhzqhg5Sw  800062.652611\n",
      "7   Mx2yZCDsyf6DPfv  910617.270808\n",
      "8   NgDl19wMapZy17u  644144.508733\n",
      "9   PeE6FRyGXUgsRhN  810478.778457\n",
      "10  Qf4GUc1pJu5T6c6  890596.324322\n",
      "11  Quc1TzYxW2pYoWX  553548.858901\n",
      "12  V94E5Ben1TlhnDV  854375.668930\n",
      "13  WcxssY2VbP4hApt  799350.243035\n",
      "14  mqwcsP2rE7J0TFp  649276.918105\n",
      "15  oZ35aAeoifZaQzV  885151.874261\n",
      "16  oZZkBaNadn6DNKz  834046.999676\n",
      "17  q49J1IKaHRwDQnt  737061.896822\n",
      "18  rrq4fwE8jgrTyWY  681647.365682\n",
      "19  vOuJvMaM2sgwLmb  854172.894243\n",
      "20  xMbIugepa2P7lBB  661077.859235\n",
      "21  xoJJ8DcxJEcupym  785180.932443\n",
      "\n",
      " Maximum prodcued DC power:\n",
      "\n",
      " 910617.2708083584\n",
      "\n",
      " The index of maximum prodcued DC power:\n",
      "\n",
      " 7\n",
      "\n",
      " The Source Key of the inverter giving the maximum prodcued DC power:\n",
      "\n",
      " Qf4GUc1pJu5T6c6\n"
     ]
    },
    {
     "data": {
      "text/plain": [
       "Text(0, 0.5, 'Total DC power over 34 days')"
      ]
     },
     "execution_count": 24,
     "metadata": {},
     "output_type": "execute_result"
    },
    {
     "data": {
      "image/png": "[encoded data removed]",
      "text/plain": [
       "<Figure size 720x360 with 1 Axes>"
      ]
     },
     "metadata": {
      "needs_background": "light"
     },
     "output_type": "display_data"
    }
   ],
   "source": [
    "# which SOURCE_KEY has produced max DC_Power\n",
    "TotalProducedDC = datasetGD2.groupby([\"SOURCE_KEY\"]).DC_POWER.sum().reset_index()\n",
    "print(TotalProducedDC)\n",
    "maxDCPower_inverter = TotalProducedDC['DC_POWER'].max()\n",
    "maxDCPower_index = TotalProducedDC['DC_POWER'].idxmax()\n",
    "MaxDCPower_inverter = TotalProducedDC['SOURCE_KEY'][10]\n",
    "print('\\n Maximum prodcued DC power:\\n\\n',maxDCPower_inverter)\n",
    "print('\\n The index of maximum prodcued DC power:\\n\\n',maxDCPower_index)\n",
    "print('\\n The Source Key of the inverter giving the maximum prodcued DC power:\\n\\n',MaxDCPower_inverter)\n",
    "\n",
    "fig = plt.figure(figsize=(10,5))\n",
    "ax = fig.add_subplot(111)\n",
    "plt.xticks(rotation='vertical')\n",
    "ax.bar(TotalProducedDC['SOURCE_KEY'], TotalProducedDC['DC_POWER'], color= '#117733')\n",
    "\n",
    "ax.set_xlabel('SOURCE KEY for inverters')\n",
    "ax.set_ylabel('Total DC power over 34 days')"
   ]
  },
  {
   "cell_type": "markdown",
   "metadata": {},
   "source": [
    "# Which SOURCE_KEY has produced max AC_Power"
   ]
  },
  {
   "cell_type": "code",
   "execution_count": 25,
   "metadata": {},
   "outputs": [
    {
     "name": "stdout",
     "output_type": "stream",
     "text": [
      "         SOURCE_KEY       AC_POWER\n",
      "0   4UPUqMRk7TRMgml  867688.151550\n",
      "1   81aHJ1q11NBPMrL  735648.671081\n",
      "2   9kRcWv60rDACzjR  779819.329933\n",
      "3   Et9kgGMDl729KT4  588615.708104\n",
      "4   IQ2d7wF4YD8zU1Q  657492.579189\n",
      "5   LYwnQax7tkwH5Cb  626022.753183\n",
      "6   LlT2YUhhzqhg5Sw  782521.577770\n",
      "7   Mx2yZCDsyf6DPfv  890317.270321\n",
      "8   NgDl19wMapZy17u  629927.405301\n",
      "9   PeE6FRyGXUgsRhN  792664.868701\n",
      "10  Qf4GUc1pJu5T6c6  870755.655462\n",
      "11  Quc1TzYxW2pYoWX  542014.929794\n",
      "12  V94E5Ben1TlhnDV  835443.639984\n",
      "13  WcxssY2VbP4hApt  781608.549098\n",
      "14  mqwcsP2rE7J0TFp  634944.647197\n",
      "15  oZ35aAeoifZaQzV  865435.791964\n",
      "16  oZZkBaNadn6DNKz  815637.897502\n",
      "17  q49J1IKaHRwDQnt  721060.844115\n",
      "18  rrq4fwE8jgrTyWY  667002.354956\n",
      "19  vOuJvMaM2sgwLmb  835012.155241\n",
      "20  xMbIugepa2P7lBB  646458.728993\n",
      "21  xoJJ8DcxJEcupym  767932.701010\n",
      "\n",
      " Maximum prodcued AC power:\n",
      "\n",
      " 890317.2703213454\n",
      "\n",
      " The index of maximum prodcued AC power:\n",
      "\n",
      " 7\n",
      "\n",
      " The Source Key of the inverter giving the maximum prodcued AC power:\n",
      "\n",
      " Qf4GUc1pJu5T6c6\n"
     ]
    },
    {
     "data": {
      "text/plain": [
       "Text(0, 0.5, 'Total AC power over 34 days')"
      ]
     },
     "execution_count": 25,
     "metadata": {},
     "output_type": "execute_result"
    },
    {
     "data": {
      "image/png": "[encoded data removed]",
      "text/plain": [
       "<Figure size 720x360 with 1 Axes>"
      ]
     },
     "metadata": {
      "needs_background": "light"
     },
     "output_type": "display_data"
    }
   ],
   "source": [
    "# which SOURCE_KEY has produced max AC_Power\n",
    "TotalProducedAC = datasetGD2.groupby([\"SOURCE_KEY\"]).AC_POWER.sum().reset_index()\n",
    "print(TotalProducedAC)\n",
    "maxACPower_inverter = TotalProducedAC['AC_POWER'].max()\n",
    "maxACPower_index = TotalProducedAC['AC_POWER'].idxmax()\n",
    "MaxACPower_inverter = TotalProducedAC['SOURCE_KEY'][10]\n",
    "print('\\n Maximum prodcued AC power:\\n\\n',maxACPower_inverter)\n",
    "print('\\n The index of maximum prodcued AC power:\\n\\n',maxACPower_index)\n",
    "print('\\n The Source Key of the inverter giving the maximum prodcued AC power:\\n\\n',MaxACPower_inverter)\n",
    "\n",
    "fig = plt.figure(figsize=(10,5))\n",
    "ax = fig.add_subplot(111)\n",
    "plt.xticks(rotation='vertical')\n",
    "ax.bar(TotalProducedAC['SOURCE_KEY'], TotalProducedAC['AC_POWER'], color= '#117733')\n",
    "\n",
    "ax.set_xlabel('SOURCE KEY for inverters')\n",
    "ax.set_ylabel('Total AC power over 34 days')\n"
   ]
  },
  {
   "cell_type": "markdown",
   "metadata": {},
   "source": [
    "# Rank the inverters based on the total DC power they produce over 34 days"
   ]
  },
  {
   "cell_type": "code",
   "execution_count": 26,
   "metadata": {},
   "outputs": [
    {
     "data": {
      "text/html": [
       "<div>\n",
       "<style scoped>\n",
       "    .dataframe tbody tr th:only-of-type {\n",
       "        vertical-align: middle;\n",
       "    }\n",
       "\n",
       "    .dataframe tbody tr th {\n",
       "        vertical-align: top;\n",
       "    }\n",
       "\n",
       "    .dataframe thead th {\n",
       "        text-align: right;\n",
       "    }\n",
       "</style>\n",
       "<table border=\"1\" class=\"dataframe\">\n",
       "  <thead>\n",
       "    <tr style=\"text-align: right;\">\n",
       "      <th></th>\n",
       "      <th>SOURCE_KEY</th>\n",
       "      <th>DC_POWER</th>\n",
       "      <th>rank</th>\n",
       "    </tr>\n",
       "  </thead>\n",
       "  <tbody>\n",
       "    <tr>\n",
       "      <th>7</th>\n",
       "      <td>Mx2yZCDsyf6DPfv</td>\n",
       "      <td>910617.270808</td>\n",
       "      <td>1.0</td>\n",
       "    </tr>\n",
       "    <tr>\n",
       "      <th>10</th>\n",
       "      <td>Qf4GUc1pJu5T6c6</td>\n",
       "      <td>890596.324322</td>\n",
       "      <td>2.0</td>\n",
       "    </tr>\n",
       "    <tr>\n",
       "      <th>0</th>\n",
       "      <td>4UPUqMRk7TRMgml</td>\n",
       "      <td>887444.875348</td>\n",
       "      <td>3.0</td>\n",
       "    </tr>\n",
       "    <tr>\n",
       "      <th>15</th>\n",
       "      <td>oZ35aAeoifZaQzV</td>\n",
       "      <td>885151.874261</td>\n",
       "      <td>4.0</td>\n",
       "    </tr>\n",
       "    <tr>\n",
       "      <th>12</th>\n",
       "      <td>V94E5Ben1TlhnDV</td>\n",
       "      <td>854375.668930</td>\n",
       "      <td>5.0</td>\n",
       "    </tr>\n",
       "    <tr>\n",
       "      <th>19</th>\n",
       "      <td>vOuJvMaM2sgwLmb</td>\n",
       "      <td>854172.894243</td>\n",
       "      <td>6.0</td>\n",
       "    </tr>\n",
       "    <tr>\n",
       "      <th>16</th>\n",
       "      <td>oZZkBaNadn6DNKz</td>\n",
       "      <td>834046.999676</td>\n",
       "      <td>7.0</td>\n",
       "    </tr>\n",
       "    <tr>\n",
       "      <th>9</th>\n",
       "      <td>PeE6FRyGXUgsRhN</td>\n",
       "      <td>810478.778457</td>\n",
       "      <td>8.0</td>\n",
       "    </tr>\n",
       "    <tr>\n",
       "      <th>6</th>\n",
       "      <td>LlT2YUhhzqhg5Sw</td>\n",
       "      <td>800062.652611</td>\n",
       "      <td>9.0</td>\n",
       "    </tr>\n",
       "    <tr>\n",
       "      <th>13</th>\n",
       "      <td>WcxssY2VbP4hApt</td>\n",
       "      <td>799350.243035</td>\n",
       "      <td>10.0</td>\n",
       "    </tr>\n",
       "    <tr>\n",
       "      <th>2</th>\n",
       "      <td>9kRcWv60rDACzjR</td>\n",
       "      <td>797324.213511</td>\n",
       "      <td>11.0</td>\n",
       "    </tr>\n",
       "    <tr>\n",
       "      <th>21</th>\n",
       "      <td>xoJJ8DcxJEcupym</td>\n",
       "      <td>785180.932443</td>\n",
       "      <td>12.0</td>\n",
       "    </tr>\n",
       "    <tr>\n",
       "      <th>1</th>\n",
       "      <td>81aHJ1q11NBPMrL</td>\n",
       "      <td>752165.196310</td>\n",
       "      <td>13.0</td>\n",
       "    </tr>\n",
       "    <tr>\n",
       "      <th>17</th>\n",
       "      <td>q49J1IKaHRwDQnt</td>\n",
       "      <td>737061.896822</td>\n",
       "      <td>14.0</td>\n",
       "    </tr>\n",
       "    <tr>\n",
       "      <th>18</th>\n",
       "      <td>rrq4fwE8jgrTyWY</td>\n",
       "      <td>681647.365682</td>\n",
       "      <td>15.0</td>\n",
       "    </tr>\n",
       "    <tr>\n",
       "      <th>4</th>\n",
       "      <td>IQ2d7wF4YD8zU1Q</td>\n",
       "      <td>672411.639080</td>\n",
       "      <td>16.0</td>\n",
       "    </tr>\n",
       "    <tr>\n",
       "      <th>20</th>\n",
       "      <td>xMbIugepa2P7lBB</td>\n",
       "      <td>661077.859235</td>\n",
       "      <td>17.0</td>\n",
       "    </tr>\n",
       "    <tr>\n",
       "      <th>14</th>\n",
       "      <td>mqwcsP2rE7J0TFp</td>\n",
       "      <td>649276.918105</td>\n",
       "      <td>18.0</td>\n",
       "    </tr>\n",
       "    <tr>\n",
       "      <th>8</th>\n",
       "      <td>NgDl19wMapZy17u</td>\n",
       "      <td>644144.508733</td>\n",
       "      <td>19.0</td>\n",
       "    </tr>\n",
       "    <tr>\n",
       "      <th>5</th>\n",
       "      <td>LYwnQax7tkwH5Cb</td>\n",
       "      <td>639696.326687</td>\n",
       "      <td>20.0</td>\n",
       "    </tr>\n",
       "    <tr>\n",
       "      <th>3</th>\n",
       "      <td>Et9kgGMDl729KT4</td>\n",
       "      <td>601396.050982</td>\n",
       "      <td>21.0</td>\n",
       "    </tr>\n",
       "    <tr>\n",
       "      <th>11</th>\n",
       "      <td>Quc1TzYxW2pYoWX</td>\n",
       "      <td>553548.858901</td>\n",
       "      <td>22.0</td>\n",
       "    </tr>\n",
       "  </tbody>\n",
       "</table>\n",
       "</div>"
      ],
      "text/plain": [
       "         SOURCE_KEY       DC_POWER  rank\n",
       "7   Mx2yZCDsyf6DPfv  910617.270808   1.0\n",
       "10  Qf4GUc1pJu5T6c6  890596.324322   2.0\n",
       "0   4UPUqMRk7TRMgml  887444.875348   3.0\n",
       "15  oZ35aAeoifZaQzV  885151.874261   4.0\n",
       "12  V94E5Ben1TlhnDV  854375.668930   5.0\n",
       "19  vOuJvMaM2sgwLmb  854172.894243   6.0\n",
       "16  oZZkBaNadn6DNKz  834046.999676   7.0\n",
       "9   PeE6FRyGXUgsRhN  810478.778457   8.0\n",
       "6   LlT2YUhhzqhg5Sw  800062.652611   9.0\n",
       "13  WcxssY2VbP4hApt  799350.243035  10.0\n",
       "2   9kRcWv60rDACzjR  797324.213511  11.0\n",
       "21  xoJJ8DcxJEcupym  785180.932443  12.0\n",
       "1   81aHJ1q11NBPMrL  752165.196310  13.0\n",
       "17  q49J1IKaHRwDQnt  737061.896822  14.0\n",
       "18  rrq4fwE8jgrTyWY  681647.365682  15.0\n",
       "4   IQ2d7wF4YD8zU1Q  672411.639080  16.0\n",
       "20  xMbIugepa2P7lBB  661077.859235  17.0\n",
       "14  mqwcsP2rE7J0TFp  649276.918105  18.0\n",
       "8   NgDl19wMapZy17u  644144.508733  19.0\n",
       "5   LYwnQax7tkwH5Cb  639696.326687  20.0\n",
       "3   Et9kgGMDl729KT4  601396.050982  21.0\n",
       "11  Quc1TzYxW2pYoWX  553548.858901  22.0"
      ]
     },
     "execution_count": 26,
     "metadata": {},
     "output_type": "execute_result"
    }
   ],
   "source": [
    "# Rank the inverters based on the total DC power they produce over 34 days\n",
    "TotalProducedDC = datasetGD2.groupby([\"SOURCE_KEY\"]).DC_POWER.sum().reset_index()\n",
    "# add a new column for rank\n",
    "TotalProducedDC['rank'] = TotalProducedDC['DC_POWER'].rank(ascending=False)\n",
    "#print(TotalProducedDC)\n",
    "# sort based on rank\n",
    "SortTotalProducedDC = TotalProducedDC.sort_values('rank')\n",
    "TotalProducedDC.sort_values('rank')\n"
   ]
  },
  {
   "cell_type": "code",
   "execution_count": 27,
   "metadata": {},
   "outputs": [
    {
     "data": {
      "text/plain": [
       "Text(0, 0.5, 'Ranked Total DC power over 34 days')"
      ]
     },
     "execution_count": 27,
     "metadata": {},
     "output_type": "execute_result"
    },
    {
     "data": {
      "image/png": "[encoded data removed]",
      "text/plain": [
       "<Figure size 720x360 with 1 Axes>"
      ]
     },
     "metadata": {
      "needs_background": "light"
     },
     "output_type": "display_data"
    }
   ],
   "source": [
    "# Graph for Rank the inverters based on the total DC power they produce over 34 days\n",
    "fig = plt.figure(figsize=(10,5))\n",
    "ax = fig.add_subplot(111)\n",
    "ax.bar(SortTotalProducedDC['SOURCE_KEY'], SortTotalProducedDC['DC_POWER'], color= '#117733')\n",
    "\n",
    "plt.xticks(rotation='vertical')\n",
    "ax.set_xlabel('SOURCE KEY for inverters')\n",
    "ax.set_ylabel('Ranked Total DC power over 34 days')\n"
   ]
  },
  {
   "cell_type": "markdown",
   "metadata": {},
   "source": [
    "# Rank the inverters based on the total AC power they produce over 34 days"
   ]
  },
  {
   "cell_type": "code",
   "execution_count": 28,
   "metadata": {},
   "outputs": [
    {
     "data": {
      "text/html": [
       "<div>\n",
       "<style scoped>\n",
       "    .dataframe tbody tr th:only-of-type {\n",
       "        vertical-align: middle;\n",
       "    }\n",
       "\n",
       "    .dataframe tbody tr th {\n",
       "        vertical-align: top;\n",
       "    }\n",
       "\n",
       "    .dataframe thead th {\n",
       "        text-align: right;\n",
       "    }\n",
       "</style>\n",
       "<table border=\"1\" class=\"dataframe\">\n",
       "  <thead>\n",
       "    <tr style=\"text-align: right;\">\n",
       "      <th></th>\n",
       "      <th>SOURCE_KEY</th>\n",
       "      <th>AC_POWER</th>\n",
       "      <th>rank</th>\n",
       "    </tr>\n",
       "  </thead>\n",
       "  <tbody>\n",
       "    <tr>\n",
       "      <th>7</th>\n",
       "      <td>Mx2yZCDsyf6DPfv</td>\n",
       "      <td>890317.270321</td>\n",
       "      <td>1.0</td>\n",
       "    </tr>\n",
       "    <tr>\n",
       "      <th>10</th>\n",
       "      <td>Qf4GUc1pJu5T6c6</td>\n",
       "      <td>870755.655462</td>\n",
       "      <td>2.0</td>\n",
       "    </tr>\n",
       "    <tr>\n",
       "      <th>0</th>\n",
       "      <td>4UPUqMRk7TRMgml</td>\n",
       "      <td>867688.151550</td>\n",
       "      <td>3.0</td>\n",
       "    </tr>\n",
       "    <tr>\n",
       "      <th>15</th>\n",
       "      <td>oZ35aAeoifZaQzV</td>\n",
       "      <td>865435.791964</td>\n",
       "      <td>4.0</td>\n",
       "    </tr>\n",
       "    <tr>\n",
       "      <th>12</th>\n",
       "      <td>V94E5Ben1TlhnDV</td>\n",
       "      <td>835443.639984</td>\n",
       "      <td>5.0</td>\n",
       "    </tr>\n",
       "    <tr>\n",
       "      <th>19</th>\n",
       "      <td>vOuJvMaM2sgwLmb</td>\n",
       "      <td>835012.155241</td>\n",
       "      <td>6.0</td>\n",
       "    </tr>\n",
       "    <tr>\n",
       "      <th>16</th>\n",
       "      <td>oZZkBaNadn6DNKz</td>\n",
       "      <td>815637.897502</td>\n",
       "      <td>7.0</td>\n",
       "    </tr>\n",
       "    <tr>\n",
       "      <th>9</th>\n",
       "      <td>PeE6FRyGXUgsRhN</td>\n",
       "      <td>792664.868701</td>\n",
       "      <td>8.0</td>\n",
       "    </tr>\n",
       "    <tr>\n",
       "      <th>6</th>\n",
       "      <td>LlT2YUhhzqhg5Sw</td>\n",
       "      <td>782521.577770</td>\n",
       "      <td>9.0</td>\n",
       "    </tr>\n",
       "    <tr>\n",
       "      <th>13</th>\n",
       "      <td>WcxssY2VbP4hApt</td>\n",
       "      <td>781608.549098</td>\n",
       "      <td>10.0</td>\n",
       "    </tr>\n",
       "    <tr>\n",
       "      <th>2</th>\n",
       "      <td>9kRcWv60rDACzjR</td>\n",
       "      <td>779819.329933</td>\n",
       "      <td>11.0</td>\n",
       "    </tr>\n",
       "    <tr>\n",
       "      <th>21</th>\n",
       "      <td>xoJJ8DcxJEcupym</td>\n",
       "      <td>767932.701010</td>\n",
       "      <td>12.0</td>\n",
       "    </tr>\n",
       "    <tr>\n",
       "      <th>1</th>\n",
       "      <td>81aHJ1q11NBPMrL</td>\n",
       "      <td>735648.671081</td>\n",
       "      <td>13.0</td>\n",
       "    </tr>\n",
       "    <tr>\n",
       "      <th>17</th>\n",
       "      <td>q49J1IKaHRwDQnt</td>\n",
       "      <td>721060.844115</td>\n",
       "      <td>14.0</td>\n",
       "    </tr>\n",
       "    <tr>\n",
       "      <th>18</th>\n",
       "      <td>rrq4fwE8jgrTyWY</td>\n",
       "      <td>667002.354956</td>\n",
       "      <td>15.0</td>\n",
       "    </tr>\n",
       "    <tr>\n",
       "      <th>4</th>\n",
       "      <td>IQ2d7wF4YD8zU1Q</td>\n",
       "      <td>657492.579189</td>\n",
       "      <td>16.0</td>\n",
       "    </tr>\n",
       "    <tr>\n",
       "      <th>20</th>\n",
       "      <td>xMbIugepa2P7lBB</td>\n",
       "      <td>646458.728993</td>\n",
       "      <td>17.0</td>\n",
       "    </tr>\n",
       "    <tr>\n",
       "      <th>14</th>\n",
       "      <td>mqwcsP2rE7J0TFp</td>\n",
       "      <td>634944.647197</td>\n",
       "      <td>18.0</td>\n",
       "    </tr>\n",
       "    <tr>\n",
       "      <th>8</th>\n",
       "      <td>NgDl19wMapZy17u</td>\n",
       "      <td>629927.405301</td>\n",
       "      <td>19.0</td>\n",
       "    </tr>\n",
       "    <tr>\n",
       "      <th>5</th>\n",
       "      <td>LYwnQax7tkwH5Cb</td>\n",
       "      <td>626022.753183</td>\n",
       "      <td>20.0</td>\n",
       "    </tr>\n",
       "    <tr>\n",
       "      <th>3</th>\n",
       "      <td>Et9kgGMDl729KT4</td>\n",
       "      <td>588615.708104</td>\n",
       "      <td>21.0</td>\n",
       "    </tr>\n",
       "    <tr>\n",
       "      <th>11</th>\n",
       "      <td>Quc1TzYxW2pYoWX</td>\n",
       "      <td>542014.929794</td>\n",
       "      <td>22.0</td>\n",
       "    </tr>\n",
       "  </tbody>\n",
       "</table>\n",
       "</div>"
      ],
      "text/plain": [
       "         SOURCE_KEY       AC_POWER  rank\n",
       "7   Mx2yZCDsyf6DPfv  890317.270321   1.0\n",
       "10  Qf4GUc1pJu5T6c6  870755.655462   2.0\n",
       "0   4UPUqMRk7TRMgml  867688.151550   3.0\n",
       "15  oZ35aAeoifZaQzV  865435.791964   4.0\n",
       "12  V94E5Ben1TlhnDV  835443.639984   5.0\n",
       "19  vOuJvMaM2sgwLmb  835012.155241   6.0\n",
       "16  oZZkBaNadn6DNKz  815637.897502   7.0\n",
       "9   PeE6FRyGXUgsRhN  792664.868701   8.0\n",
       "6   LlT2YUhhzqhg5Sw  782521.577770   9.0\n",
       "13  WcxssY2VbP4hApt  781608.549098  10.0\n",
       "2   9kRcWv60rDACzjR  779819.329933  11.0\n",
       "21  xoJJ8DcxJEcupym  767932.701010  12.0\n",
       "1   81aHJ1q11NBPMrL  735648.671081  13.0\n",
       "17  q49J1IKaHRwDQnt  721060.844115  14.0\n",
       "18  rrq4fwE8jgrTyWY  667002.354956  15.0\n",
       "4   IQ2d7wF4YD8zU1Q  657492.579189  16.0\n",
       "20  xMbIugepa2P7lBB  646458.728993  17.0\n",
       "14  mqwcsP2rE7J0TFp  634944.647197  18.0\n",
       "8   NgDl19wMapZy17u  629927.405301  19.0\n",
       "5   LYwnQax7tkwH5Cb  626022.753183  20.0\n",
       "3   Et9kgGMDl729KT4  588615.708104  21.0\n",
       "11  Quc1TzYxW2pYoWX  542014.929794  22.0"
      ]
     },
     "execution_count": 28,
     "metadata": {},
     "output_type": "execute_result"
    }
   ],
   "source": [
    "# Rank the inverters based on the total AC power they produce over 34 days\n",
    "TotalProducedAC = datasetGD2.groupby([\"SOURCE_KEY\"]).AC_POWER.sum().reset_index()\n",
    "# add a new column for rank\n",
    "TotalProducedAC['rank'] = TotalProducedAC['AC_POWER'].rank(ascending=False)\n",
    "#print(TotalProducedDC)\n",
    "# sort based on rank\n",
    "SortTotalProducedAC = TotalProducedAC.sort_values('rank')\n",
    "TotalProducedAC.sort_values('rank')\n"
   ]
  },
  {
   "cell_type": "code",
   "execution_count": 29,
   "metadata": {},
   "outputs": [
    {
     "data": {
      "text/plain": [
       "Text(0, 0.5, 'Ranked Total AC power over 34 days')"
      ]
     },
     "execution_count": 29,
     "metadata": {},
     "output_type": "execute_result"
    },
    {
     "data": {
      "image/png": "[encoded data removed]",
      "text/plain": [
       "<Figure size 720x360 with 1 Axes>"
      ]
     },
     "metadata": {
      "needs_background": "light"
     },
     "output_type": "display_data"
    }
   ],
   "source": [
    "# Graph for Rank the inverters based on the total AC power they produce over 34 days\n",
    "fig = plt.figure(figsize=(10,5))\n",
    "ax = fig.add_subplot(111)\n",
    "ax.bar(SortTotalProducedAC['SOURCE_KEY'],SortTotalProducedAC['AC_POWER'], color= '#117733')\n",
    "\n",
    "plt.xticks(rotation='vertical')\n",
    "ax.set_xlabel('SOURCE KEY for inverters')\n",
    "ax.set_ylabel('Ranked Total AC power over 34 days')\n"
   ]
  },
  {
   "cell_type": "markdown",
   "metadata": {},
   "source": [
    "# Graphs that Explain The Patterns For ttributes Independent of Other Variables"
   ]
  },
  {
   "cell_type": "code",
   "execution_count": 30,
   "metadata": {},
   "outputs": [
    {
     "data": {
      "text/plain": [
       "Text(0, 0.5, 'DC_POWER')"
      ]
     },
     "execution_count": 30,
     "metadata": {},
     "output_type": "execute_result"
    },
    {
     "data": {
      "image/png": "[encoded data removed]",
      "text/plain": [
       "<Figure size 720x360 with 1 Axes>"
      ]
     },
     "metadata": {
      "needs_background": "light"
     },
     "output_type": "display_data"
    }
   ],
   "source": [
    "# plot nTimeStamp for DC_POWER\n",
    "fig = plt.figure(figsize=(10,5))\n",
    "ax = fig.add_subplot(111)\n",
    "ax.bar(datasetGD2['date'], datasetGD2['DC_POWER'], color= '#a65628')\n",
    "\n",
    "plt.xticks(rotation='vertical')\n",
    "ax.set_xlabel('TimeStamp')\n",
    "ax.set_ylabel('DC_POWER')\n"
   ]
  },
  {
   "cell_type": "code",
   "execution_count": 31,
   "metadata": {},
   "outputs": [
    {
     "data": {
      "text/plain": [
       "Text(0, 0.5, 'AC_POWER')"
      ]
     },
     "execution_count": 31,
     "metadata": {},
     "output_type": "execute_result"
    },
    {
     "data": {
      "image/png": "[encoded data removed]",
      "text/plain": [
       "<Figure size 720x360 with 1 Axes>"
      ]
     },
     "metadata": {
      "needs_background": "light"
     },
     "output_type": "display_data"
    }
   ],
   "source": [
    "# plot nTimeStamp for AC_POWER\n",
    "fig = plt.figure(figsize=(10,5))\n",
    "ax = fig.add_subplot(111)\n",
    "ax.bar(datasetGD2['date'], datasetGD2['AC_POWER'], color= 'purple')\n",
    "\n",
    "plt.xticks(rotation='vertical')\n",
    "ax.set_xlabel('Date')\n",
    "ax.set_ylabel('AC_POWER')\n",
    "\n"
   ]
  },
  {
   "cell_type": "code",
   "execution_count": 32,
   "metadata": {},
   "outputs": [
    {
     "data": {
      "text/plain": [
       "Text(0, 0.5, 'DAILY_YIELD')"
      ]
     },
     "execution_count": 32,
     "metadata": {},
     "output_type": "execute_result"
    },
    {
     "data": {
      "image/png": "[encoded data removed]",
      "text/plain": [
       "<Figure size 720x360 with 1 Axes>"
      ]
     },
     "metadata": {
      "needs_background": "light"
     },
     "output_type": "display_data"
    }
   ],
   "source": [
    "# plot nTimeStamp for DAILY_YIELD\n",
    "fig = plt.figure(figsize=(10,5))\n",
    "ax = fig.add_subplot(111)\n",
    "ax.bar(datasetGD2['date'], datasetGD2['DAILY_YIELD'], color= 'blue')\n",
    "\n",
    "plt.xticks(rotation='vertical')\n",
    "ax.set_xlabel('Date')\n",
    "ax.set_ylabel('DAILY_YIELD')\n",
    "\n"
   ]
  },
  {
   "cell_type": "code",
   "execution_count": 33,
   "metadata": {},
   "outputs": [
    {
     "data": {
      "text/plain": [
       "Text(0, 0.5, 'TOTAL_YIELD')"
      ]
     },
     "execution_count": 33,
     "metadata": {},
     "output_type": "execute_result"
    },
    {
     "data": {
      "image/png": "[encoded data removed]",
      "text/plain": [
       "<Figure size 720x360 with 1 Axes>"
      ]
     },
     "metadata": {
      "needs_background": "light"
     },
     "output_type": "display_data"
    }
   ],
   "source": [
    "# plot nTimeStamp for TOTAL_YIELD\n",
    "fig = plt.figure(figsize=(10,5))\n",
    "ax = fig.add_subplot(111)\n",
    "ax.bar(datasetGD2['date'], datasetGD2['TOTAL_YIELD'], color= '#ff7f00')\n",
    "\n",
    "plt.xticks(rotation='vertical')\n",
    "ax.set_xlabel('Date')\n",
    "ax.set_ylabel('TOTAL_YIELD')\n",
    "\n"
   ]
  },
  {
   "cell_type": "code",
   "execution_count": 34,
   "metadata": {},
   "outputs": [
    {
     "data": {
      "text/plain": [
       "0       2020-05-15\n",
       "1       2020-05-15\n",
       "2       2020-05-15\n",
       "3       2020-05-15\n",
       "4       2020-05-15\n",
       "           ...    \n",
       "67693   2020-06-17\n",
       "67694   2020-06-17\n",
       "67695   2020-06-17\n",
       "67696   2020-06-17\n",
       "67697   2020-06-17\n",
       "Name: date, Length: 67698, dtype: datetime64[ns]"
      ]
     },
     "execution_count": 34,
     "metadata": {},
     "output_type": "execute_result"
    }
   ],
   "source": [
    "datasetGD2['date'] = np.array(datasetGD2['date'])\n",
    "datasetGD2['date']"
   ]
  },
  {
   "cell_type": "code",
   "execution_count": 36,
   "metadata": {},
   "outputs": [
    {
     "name": "stderr",
     "output_type": "stream",
     "text": [
      "<ipython-input-36-8e16ef2c59c0>:17: UserWarning: FixedFormatter should only be used together with FixedLocator\n",
      "  ax.set_xticklabels(datasetGD2['date'])\n"
     ]
    },
    {
     "data": {
      "image/png": "[encoded data removed]",
      "text/plain": [
       "<Figure size 1440x720 with 1 Axes>"
      ]
     },
     "metadata": {
      "needs_background": "light"
     },
     "output_type": "display_data"
    }
   ],
   "source": [
    "x = np.arange(len(datasetGD2['date']))  # the label locations\n",
    "width = 0.35  # the width of the bars\n",
    "\n",
    "\n",
    "fig, ax = plt.subplots(figsize=(20, 10))\n",
    "rects1 = ax.bar(x - width/2, datasetGD2['AC_POWER'], width, label='AC')\n",
    "rects2 = ax.bar(x + width/2, datasetGD2['DC_POWER'], width, label='DC')\n",
    "\n",
    "# Add some text for labels, title and custom x-axis tick labels, etc.\n",
    "ax.set_title('Powers by group of AC & DC')\n",
    "ax.set_xlabel('Date')\n",
    "ax.set_ylabel('Ac & DC power')\n",
    "plt.xticks(rotation='vertical')\n",
    "\n",
    "\n",
    "#ax.set_xticks(x)\n",
    "ax.set_xticklabels(datasetGD2['date'])\n",
    "ax.legend()\n",
    "\n",
    "\n",
    "fig.tight_layout()\n",
    "plt.xticks(rotation='vertical')\n",
    "plt.show()"
   ]
  },
  {
   "cell_type": "code",
   "execution_count": null,
   "metadata": {},
   "outputs": [],
   "source": []
  },
  {
   "cell_type": "code",
   "execution_count": null,
   "metadata": {},
   "outputs": [],
   "source": []
  }
 ],
 "metadata": {
  "kernelspec": {
   "display_name": "Python 3",
   "language": "python",
   "name": "python3"
  },
  "language_info": {
   "codemirror_mode": {
    "name": "ipython",
    "version": 3
   },
   "file_extension": ".py",
   "mimetype": "text/x-python",
   "name": "python",
   "nbconvert_exporter": "python",
   "pygments_lexer": "ipython3",
   "version": "3.8.5"
  }
 },
 "nbformat": 4,
 "nbformat_minor": 2
}
